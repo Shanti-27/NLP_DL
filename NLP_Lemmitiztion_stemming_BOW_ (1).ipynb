{
  "nbformat": 4,
  "nbformat_minor": 0,
  "metadata": {
    "colab": {
      "provenance": []
    },
    "kernelspec": {
      "name": "python3",
      "display_name": "Python 3"
    },
    "language_info": {
      "name": "python"
    }
  },
  "cells": [
    {
      "cell_type": "markdown",
      "source": [
        "# LEMMATIZATION AND STEMMING\n",
        "\n",
        "In natural language processing (NLP), both lemmatization and stemming are techniques used to reduce words to their base or root form. They are employed to normalize text data, improve text analysis, and enhance computational efficiency. While they serve a similar purpose, there are key differences between the two approaches.\n",
        "\n",
        "Lemmatization:\n",
        "Lemmatization aims to reduce words to their base form, known as the lemma. The lemma is the dictionary form or the canonical form of a word. It ensures that different inflected forms of a word are mapped to the same base form. For example:\n",
        "\n",
        "Lemmatization of the word \"running\" would result in \"run.\"\n",
        "Lemmatization of \"better\" would yield \"good.\"\n",
        "Lemmatization considers the context and part of speech (POS) of the word in order to produce the appropriate lemma. For instance, the lemma of \"better\" could be \"good\" as an adjective, but it could also be \"well\" as an adverb.\n",
        "\n",
        "Stemming:\n",
        "Stemming involves reducing words to their stems, which are the core parts of words. It involves removing prefixes or suffixes from words to obtain the base form. The stemming process may produce stems that are not actual words. For example:\n",
        "\n",
        "Stemming the word \"running\" would result in \"run.\"\n",
        "Stemming \"better\" would produce \"bett.\"\n",
        "Stemming algorithms apply a set of rules or heuristics to perform the reductions. Since stemming relies on rule-based manipulation, it is generally faster than lemmatization. However, it may not always generate linguistically correct stems.\n",
        "\n",
        "The choice between lemmatization and stemming depends on the specific NLP task and the desired outcome. Lemmatization is often preferred when maintaining the grammatical integrity of the text is important. It produces meaningful base forms that can be useful for tasks such as language understanding, information retrieval, and topic modeling. Stemming, on the other hand, is suitable for tasks like information retrieval, search engines, and sentiment analysis, where speed and simplicity are prioritized over linguistic accuracy.\n",
        "\n",
        "Both techniques are available in popular NLP libraries such as NLTK (Natural Language Toolkit) and spaCy, offering various lemmatizers and stemmers for different languages."
      ],
      "metadata": {
        "id": "SKqL8kgYoC9J"
      }
    },
    {
      "cell_type": "markdown",
      "source": [
        "# 1. Bag of Words (BoW):\n",
        "\n",
        "BoW is a representation of text data where each document is represented as a collection of words, disregarding grammar and word order.\n",
        "It involves creating a vocabulary of unique words from the entire corpus and representing each document as a vector of word frequencies or presence/absence indicators.\n",
        "BoW is a simple and commonly used approach for text classification and information retrieval tasks.\n",
        "\n",
        "# 2. Unigrams, Bigrams, and N-grams:\n",
        "\n",
        "Unigrams refer to individual words in a text.\n",
        "Bigrams are pairs of consecutive words occurring together in a text.\n",
        "N-grams are sequences of N words occurring together in a text.\n",
        "N-grams capture more context and can provide a richer representation of text compared to individual words.\n",
        "By considering different values of N, such as trigrams or higher-order n-grams, more extensive contextual information can be captured.\n",
        "\n",
        "# 3. Text to Speech (TTS):\n",
        "\n",
        "TTS is a technology that converts written text into spoken words.\n",
        "It involves synthesizing human-like speech from text input.\n",
        "TTS systems use various techniques, such as concatenative synthesis or parametric synthesis, to generate speech.\n",
        "TTS finds applications in voice assistants, audiobooks, accessibility tools, and more.\n",
        "\n",
        "# 4. Speech to Text (STT):\n",
        "\n",
        "STT, also known as Automatic Speech Recognition (ASR), is a technology that converts spoken language into written text.\n",
        "It involves analyzing audio recordings and transcribing the spoken words into a textual form.\n",
        "STT systems use techniques like acoustic modeling, language modeling, and decoding algorithms to recognize and convert speech.\n",
        "STT is used in applications like transcription services, voice-controlled systems, voice assistants, and more.\n",
        "\n",
        "Both TTS and STT are important components of natural language understanding and communication systems, enabling interactions between humans and machines through speech and text.\n",
        "\n",
        "\n",
        "\n",
        "\n"
      ],
      "metadata": {
        "id": "Mg0fDu3-o43Y"
      }
    },
    {
      "cell_type": "markdown",
      "source": [
        "# Stemming"
      ],
      "metadata": {
        "id": "EyNuOramquWw"
      }
    },
    {
      "cell_type": "code",
      "source": [
        "import nltk\n",
        "from nltk.stem.porter import *"
      ],
      "metadata": {
        "id": "frfOqzjyoLjt"
      },
      "execution_count": 2,
      "outputs": []
    },
    {
      "cell_type": "markdown",
      "source": [
        "The line of code you provided imports the Porter stemming algorithm from the NLTK library. The Porter stemming algorithm is one of the popular stemming algorithms used in natural language processing. It reduces words to their stems by removing common English language suffixes.\n",
        "\n",
        "The Porter stemming algorithm is useful for applications where speed and simplicity are prioritized over linguistic accuracy. However, it's worth noting that the algorithm may produce stems that are not actual words. If you require more linguistically accurate stemming, you can explore other stemming algorithms available in the NLTK library, such as the Lancaster stemmer or Snowball stemmers for different languages."
      ],
      "metadata": {
        "id": "BUoAG173s4ea"
      }
    },
    {
      "cell_type": "code",
      "source": [
        "nltk.download('punkt')"
      ],
      "metadata": {
        "colab": {
          "base_uri": "https://localhost:8080/"
        },
        "id": "OCGfciMIszf7",
        "outputId": "1723543b-9c92-4bf2-b61b-846801491ff7"
      },
      "execution_count": 3,
      "outputs": [
        {
          "output_type": "stream",
          "name": "stderr",
          "text": [
            "[nltk_data] Downloading package punkt to /root/nltk_data...\n",
            "[nltk_data]   Package punkt is already up-to-date!\n"
          ]
        },
        {
          "output_type": "execute_result",
          "data": {
            "text/plain": [
              "True"
            ]
          },
          "metadata": {},
          "execution_count": 3
        }
      ]
    },
    {
      "cell_type": "code",
      "source": [
        "nltk.download('wordnet')"
      ],
      "metadata": {
        "colab": {
          "base_uri": "https://localhost:8080/"
        },
        "id": "wATUsNiv3cvN",
        "outputId": "82a3cf0c-ceaf-4957-8acd-1b027f82d6a8"
      },
      "execution_count": 4,
      "outputs": [
        {
          "output_type": "stream",
          "name": "stderr",
          "text": [
            "[nltk_data] Downloading package wordnet to /root/nltk_data...\n",
            "[nltk_data]   Package wordnet is already up-to-date!\n"
          ]
        },
        {
          "output_type": "execute_result",
          "data": {
            "text/plain": [
              "True"
            ]
          },
          "metadata": {},
          "execution_count": 4
        }
      ]
    },
    {
      "cell_type": "code",
      "source": [
        "stemming = PorterStemmer()"
      ],
      "metadata": {
        "id": "mXrRJE4kpKbp"
      },
      "execution_count": 5,
      "outputs": []
    },
    {
      "cell_type": "code",
      "source": [
        "words = ['run', 'runs', 'running', 'ran', 'easily', 'fairly', 'easy', 'fair', 'history', 'historical']"
      ],
      "metadata": {
        "id": "uMuCIhawpKda"
      },
      "execution_count": 6,
      "outputs": []
    },
    {
      "cell_type": "code",
      "source": [
        "for word in words:\n",
        "  print(word + '--->'+stemming.stem(word))"
      ],
      "metadata": {
        "colab": {
          "base_uri": "https://localhost:8080/"
        },
        "id": "mCqWrEgypKgx",
        "outputId": "4d6cf322-c0c5-4953-c569-71a4ebc61676"
      },
      "execution_count": 7,
      "outputs": [
        {
          "output_type": "stream",
          "name": "stdout",
          "text": [
            "run--->run\n",
            "runs--->run\n",
            "running--->run\n",
            "ran--->ran\n",
            "easily--->easili\n",
            "fairly--->fairli\n",
            "easy--->easi\n",
            "fair--->fair\n",
            "history--->histori\n",
            "historical--->histor\n"
          ]
        }
      ]
    },
    {
      "cell_type": "code",
      "source": [
        "sentence = \"The government has constituted a new internal oversight mechanism for official data, revamping a Standing Committee on Economic Statistics (SCES) set up in late 2019, soon after the findings from the last round of household surveys on consumption expenditure and employment were junked, citing ‘data quality issues’. In an order issued last Thursday, the Statistics Ministry said that the SCES — which was tasked with examining economic indicators only — will now be replaced by a Standing Committee on Statistics (SCoS) which has a broader mandate to review the framework and results of all surveys conducted under the aegis of the National Statistical Office (NSO).Pronab Sen, India’s first chief statistician and the former chairman of the National Statistical Commission (NSC), has been named the chair of the new committee.\""
      ],
      "metadata": {
        "id": "hI1sAHQFpKin"
      },
      "execution_count": 8,
      "outputs": []
    },
    {
      "cell_type": "code",
      "source": [
        "from nltk.corpus import stopwords"
      ],
      "metadata": {
        "id": "aOpJ7JHdpKmA"
      },
      "execution_count": 9,
      "outputs": []
    },
    {
      "cell_type": "code",
      "source": [
        "my_review = nltk.sent_tokenize(sentence)"
      ],
      "metadata": {
        "id": "q5pHpeKApKnr"
      },
      "execution_count": 10,
      "outputs": []
    },
    {
      "cell_type": "code",
      "source": [
        "my_review"
      ],
      "metadata": {
        "colab": {
          "base_uri": "https://localhost:8080/"
        },
        "id": "vZu6vXBxpKq9",
        "outputId": "5cad2b83-7a1a-4128-9be2-05e287a71bd5"
      },
      "execution_count": 11,
      "outputs": [
        {
          "output_type": "execute_result",
          "data": {
            "text/plain": [
              "['The government has constituted a new internal oversight mechanism for official data, revamping a Standing Committee on Economic Statistics (SCES) set up in late 2019, soon after the findings from the last round of household surveys on consumption expenditure and employment were junked, citing ‘data quality issues’.',\n",
              " 'In an order issued last Thursday, the Statistics Ministry said that the SCES — which was tasked with examining economic indicators only — will now be replaced by a Standing Committee on Statistics (SCoS) which has a broader mandate to review the framework and results of all surveys conducted under the aegis of the National Statistical Office (NSO).Pronab Sen, India’s first chief statistician and the former chairman of the National Statistical Commission (NSC), has been named the chair of the new committee.']"
            ]
          },
          "metadata": {},
          "execution_count": 11
        }
      ]
    },
    {
      "cell_type": "code",
      "source": [
        "stemming = PorterStemmer()"
      ],
      "metadata": {
        "id": "AX9kCN6euPZi"
      },
      "execution_count": 12,
      "outputs": []
    },
    {
      "cell_type": "code",
      "source": [
        "for i in range(len(my_review)):\n",
        "    words = nltk.word_tokenize(my_review[i])\n",
        "    words = [stemming.stem(word) for word in words if word not in set(stopwords.words('english'))]\n",
        "    my_review[i] = ' '.join(words)"
      ],
      "metadata": {
        "id": "LH_lms5cuPkC"
      },
      "execution_count": 13,
      "outputs": []
    },
    {
      "cell_type": "code",
      "source": [
        "my_review"
      ],
      "metadata": {
        "colab": {
          "base_uri": "https://localhost:8080/"
        },
        "id": "9azYcCdHuPlo",
        "outputId": "af4efc78-086d-4a06-ed5a-dd4fa01203cb"
      },
      "execution_count": 14,
      "outputs": [
        {
          "output_type": "execute_result",
          "data": {
            "text/plain": [
              "['the govern constitut new intern oversight mechan offici data , revamp stand committe econom statist ( sce ) set late 2019 , soon find last round household survey consumpt expenditur employ junk , cite ‘ data qualiti issu ’ .',\n",
              " 'in order issu last thursday , statist ministri said sce — task examin econom indic — replac stand committe statist ( sco ) broader mandat review framework result survey conduct aegi nation statist offic ( nso ) .pronab sen , india ’ first chief statistician former chairman nation statist commiss ( nsc ) , name chair new committe .']"
            ]
          },
          "metadata": {},
          "execution_count": 14
        }
      ]
    },
    {
      "cell_type": "markdown",
      "source": [
        "# Lemmatization\n"
      ],
      "metadata": {
        "id": "CLTGvBcsu9b2"
      }
    },
    {
      "cell_type": "code",
      "source": [
        "words = ['run', 'runs', 'running', 'ran', 'easily', 'fairly', 'easy', 'fair', 'history', 'historical']"
      ],
      "metadata": {
        "id": "EgjRXwG4pKwI"
      },
      "execution_count": 15,
      "outputs": []
    },
    {
      "cell_type": "code",
      "source": [
        "from nltk.stem import WordNetLemmatizer\n"
      ],
      "metadata": {
        "id": "iX8HxO6spKxh"
      },
      "execution_count": 16,
      "outputs": []
    },
    {
      "cell_type": "markdown",
      "source": [
        "The line of code you provided imports the WordNet lemmatizer from the NLTK library. The WordNet lemmatizer is a popular lemmatization algorithm used in natural language processing. It reduces words to their base form or lemma based on the WordNet lexical database."
      ],
      "metadata": {
        "id": "IwSEdqq0vbVQ"
      }
    },
    {
      "cell_type": "code",
      "source": [
        "lemmatizer = WordNetLemmatizer()"
      ],
      "metadata": {
        "id": "SbJ0qR6Avz4a"
      },
      "execution_count": 17,
      "outputs": []
    },
    {
      "cell_type": "code",
      "source": [
        "for word in words:\n",
        "    print(word + '--->' + lemmatizer.lemmatize(word))\n"
      ],
      "metadata": {
        "colab": {
          "base_uri": "https://localhost:8080/"
        },
        "id": "vJYWrTHrpK1G",
        "outputId": "991bdbe9-5359-40a1-9794-8232acf5bb42"
      },
      "execution_count": 18,
      "outputs": [
        {
          "output_type": "stream",
          "name": "stdout",
          "text": [
            "run--->run\n",
            "runs--->run\n",
            "running--->running\n",
            "ran--->ran\n",
            "easily--->easily\n",
            "fairly--->fairly\n",
            "easy--->easy\n",
            "fair--->fair\n",
            "history--->history\n",
            "historical--->historical\n"
          ]
        }
      ]
    },
    {
      "cell_type": "code",
      "source": [
        "for i in range(len(my_review)):\n",
        "    words = nltk.word_tokenize(my_review[i])\n",
        "    words = [lemmatizer.lemmatize(word) for word in words if word not in set(stopwords.words('english'))]\n",
        "    my_review[i] = ' '.join(words)"
      ],
      "metadata": {
        "id": "2tJ6mJ1lvhSs"
      },
      "execution_count": 19,
      "outputs": []
    },
    {
      "cell_type": "code",
      "source": [
        "my_review"
      ],
      "metadata": {
        "colab": {
          "base_uri": "https://localhost:8080/"
        },
        "id": "nliJ4UBS4UfR",
        "outputId": "b52fd8dd-b80d-49f3-8a23-23e0d0fca6df"
      },
      "execution_count": 20,
      "outputs": [
        {
          "output_type": "execute_result",
          "data": {
            "text/plain": [
              "['govern constitut new intern oversight mechan offici data , revamp stand committe econom statist ( sce ) set late 2019 , soon find last round household survey consumpt expenditur employ junk , cite ‘ data qualiti issu ’ .',\n",
              " 'order issu last thursday , statist ministri said sce — task examin econom indic — replac stand committe statist ( sco ) broader mandat review framework result survey conduct aegi nation statist offic ( nso ) .pronab sen , india ’ first chief statistician former chairman nation statist commiss ( nsc ) , name chair new committe .']"
            ]
          },
          "metadata": {},
          "execution_count": 20
        }
      ]
    },
    {
      "cell_type": "markdown",
      "source": [
        "# BAG OF WORDS (BOW)"
      ],
      "metadata": {
        "id": "ExhP3_638cve"
      }
    },
    {
      "cell_type": "code",
      "source": [
        "sentence = \"The SCoS — with “enhanced terms of reference” vis-à-vis the SCES, “to ensure more coverage” — has 10 official members, and four non-official members who are eminent academics. The panel can have up to 16 members, as per the order issued by the Ministry of Statistics and Programme Implementation (MoSPI). The development assumes significance amid sharp critiques of India’s statistical machinery by members of the Economic Advisory Council to the Prime Minister, including its chairperson Bibek Debroy. He had mooted an overhaul of the system and contended that the Indian Statistical Service has “little expertise in survey design”. “The term of the SCES was coming to an end in any case, so it was decided to expand the committee’s mandate beyond economic data and advise the Ministry on technical aspects for all surveys, such as sampling frame, design, survey methodology and finalisation of results,” an official said.Apart from addressing issues raised from time to time on the subject, results and methodology for all surveys, the SCoS’ terms of reference include the identification of data gaps that need to be filled by official statistics, along with an appropriate strategy to plug those gaps. It has also been mandated to explore the use of administrative statistics to improve data outcomes.\""
      ],
      "metadata": {
        "id": "KA-BqwWR7M57"
      },
      "execution_count": 21,
      "outputs": []
    },
    {
      "cell_type": "code",
      "source": [
        "my_review = nltk.sent_tokenize(sentence)"
      ],
      "metadata": {
        "id": "rwtzQERG8bb3"
      },
      "execution_count": 22,
      "outputs": []
    },
    {
      "cell_type": "code",
      "source": [
        "my_review"
      ],
      "metadata": {
        "colab": {
          "base_uri": "https://localhost:8080/"
        },
        "id": "TA9Uo_HA8bdZ",
        "outputId": "7bb904b9-6b94-4754-cdc7-860e539e65bb"
      },
      "execution_count": 23,
      "outputs": [
        {
          "output_type": "execute_result",
          "data": {
            "text/plain": [
              "['The SCoS — with “enhanced terms of reference” vis-à-vis the SCES, “to ensure more coverage” — has 10 official members, and four non-official members who are eminent academics.',\n",
              " 'The panel can have up to 16 members, as per the order issued by the Ministry of Statistics and Programme Implementation (MoSPI).',\n",
              " 'The development assumes significance amid sharp critiques of India’s statistical machinery by members of the Economic Advisory Council to the Prime Minister, including its chairperson Bibek Debroy.',\n",
              " 'He had mooted an overhaul of the system and contended that the Indian Statistical Service has “little expertise in survey design”.',\n",
              " '“The term of the SCES was coming to an end in any case, so it was decided to expand the committee’s mandate beyond economic data and advise the Ministry on technical aspects for all surveys, such as sampling frame, design, survey methodology and finalisation of results,” an official said.Apart from addressing issues raised from time to time on the subject, results and methodology for all surveys, the SCoS’ terms of reference include the identification of data gaps that need to be filled by official statistics, along with an appropriate strategy to plug those gaps.',\n",
              " 'It has also been mandated to explore the use of administrative statistics to improve data outcomes.']"
            ]
          },
          "metadata": {},
          "execution_count": 23
        }
      ]
    },
    {
      "cell_type": "code",
      "source": [
        "#importing regular expression\n",
        "\n",
        "import re\n",
        "from nltk.corpus import stopwords\n",
        "from nltk.stem import WordNetLemmatizer\n",
        "\n",
        "lemmatizer = WordNetLemmatizer()"
      ],
      "metadata": {
        "id": "H6nTkjcw8bgT"
      },
      "execution_count": 26,
      "outputs": []
    },
    {
      "cell_type": "markdown",
      "source": [
        "The import re statement is used to import the re module in Python. The re module provides support for regular expressions, which are powerful patterns used to match and manipulate strings."
      ],
      "metadata": {
        "id": "kzc1Z__F9U9o"
      }
    },
    {
      "cell_type": "markdown",
      "source": [
        "# Pre-Processing steps"
      ],
      "metadata": {
        "id": "ZrOPaq5xBk_r"
      }
    },
    {
      "cell_type": "code",
      "source": [
        "corpus = []\n",
        "\n",
        "for i in range(len(my_review)):\n",
        "    review = re.sub('[^a-zA-Z]', ' ', my_review[i])\n",
        "    review = review.lower()\n",
        "    words = nltk.word_tokenize(review)\n",
        "    words = [lemmatizer.lemmatize(word) for word in words if word not in set(stopwords.words('english'))]\n",
        "    review = ' '.join(words)\n",
        "    corpus.append(review)"
      ],
      "metadata": {
        "id": "4dT5CvMw_8cS"
      },
      "execution_count": 29,
      "outputs": []
    },
    {
      "cell_type": "markdown",
      "source": [
        "In this code, a loop iterates over the indices of my_review. For each index i, re.sub('[^a-zA-Z]', '', my_review[i]) is used to remove all non-alphabetic characters from my_review[i] using a regular expression.\n",
        "\n",
        "review = review.lower() : Since Python is a case sensitive\n"
      ],
      "metadata": {
        "id": "wnKxFu02_Pb9"
      }
    },
    {
      "cell_type": "code",
      "source": [
        "corpus"
      ],
      "metadata": {
        "colab": {
          "base_uri": "https://localhost:8080/"
        },
        "id": "Fvcdz4tn-t1u",
        "outputId": "5f73f492-1174-449d-e61d-c13f78b3561b"
      },
      "execution_count": 30,
      "outputs": [
        {
          "output_type": "execute_result",
          "data": {
            "text/plain": [
              "['scos enhanced term reference vi vi sces ensure coverage official member four non official member eminent academic',\n",
              " 'panel member per order issued ministry statistic programme implementation mospi',\n",
              " 'development assumes significance amid sharp critique india statistical machinery member economic advisory council prime minister including chairperson bibek debroy',\n",
              " 'mooted overhaul system contended indian statistical service little expertise survey design',\n",
              " 'term sces coming end case decided expand committee mandate beyond economic data advise ministry technical aspect survey sampling frame design survey methodology finalisation result official said apart addressing issue raised time time subject result methodology survey scos term reference include identification data gap need filled official statistic along appropriate strategy plug gap',\n",
              " 'also mandated explore use administrative statistic improve data outcome']"
            ]
          },
          "metadata": {},
          "execution_count": 30
        }
      ]
    },
    {
      "cell_type": "markdown",
      "source": [
        "# Building Bag of Words Model"
      ],
      "metadata": {
        "id": "_NriJM22AvNA"
      }
    },
    {
      "cell_type": "code",
      "source": [
        "from sklearn.feature_extraction.text import CountVectorizer\n",
        "\n",
        "cv = CountVectorizer(max_features=500, binary=True)\n",
        "x = cv.fit_transform(corpus).toarray()\n"
      ],
      "metadata": {
        "id": "q7uGL50H-t3r"
      },
      "execution_count": 37,
      "outputs": []
    },
    {
      "cell_type": "code",
      "source": [
        "x"
      ],
      "metadata": {
        "colab": {
          "base_uri": "https://localhost:8080/"
        },
        "id": "GjYOsSKh-t6r",
        "outputId": "46a59b89-c37e-4e26-9c42-ed8939408d20"
      },
      "execution_count": 38,
      "outputs": [
        {
          "output_type": "execute_result",
          "data": {
            "text/plain": [
              "array([[1, 0, 0, 0, 0, 0, 0, 0, 0, 0, 0, 0, 0, 0, 0, 0, 0, 0, 0, 0, 1, 0,\n",
              "        0, 0, 0, 0, 0, 0, 1, 0, 1, 1, 0, 0, 0, 0, 0, 1, 0, 0, 0, 0, 0, 0,\n",
              "        0, 0, 0, 0, 0, 0, 0, 0, 0, 1, 0, 0, 0, 0, 0, 0, 1, 1, 0, 0, 0, 0,\n",
              "        0, 0, 0, 0, 0, 1, 0, 0, 0, 1, 1, 0, 0, 0, 0, 0, 0, 0, 0, 0, 0, 1,\n",
              "        0, 0, 1],\n",
              "       [0, 0, 0, 0, 0, 0, 0, 0, 0, 0, 0, 0, 0, 0, 0, 0, 0, 0, 0, 0, 0, 0,\n",
              "        0, 0, 0, 0, 0, 0, 0, 0, 0, 0, 0, 0, 0, 0, 0, 0, 0, 0, 0, 1, 0, 0,\n",
              "        0, 0, 0, 0, 1, 0, 0, 0, 0, 1, 0, 0, 1, 0, 1, 0, 0, 0, 1, 0, 0, 1,\n",
              "        1, 0, 0, 1, 0, 0, 0, 0, 0, 0, 0, 0, 0, 0, 1, 0, 0, 0, 0, 0, 0, 0,\n",
              "        0, 0, 0],\n",
              "       [0, 0, 0, 0, 1, 0, 0, 1, 0, 0, 0, 1, 0, 1, 0, 1, 0, 0, 0, 1, 0, 1,\n",
              "        0, 1, 0, 0, 1, 1, 0, 0, 0, 0, 0, 0, 0, 0, 0, 0, 0, 0, 0, 0, 0, 0,\n",
              "        1, 1, 0, 0, 0, 0, 1, 0, 0, 1, 0, 1, 0, 0, 0, 0, 0, 0, 0, 0, 0, 0,\n",
              "        0, 0, 1, 0, 0, 0, 0, 0, 0, 0, 0, 0, 1, 1, 0, 1, 0, 0, 0, 0, 0, 0,\n",
              "        0, 0, 0],\n",
              "       [0, 0, 0, 0, 0, 0, 0, 0, 0, 0, 0, 0, 0, 0, 0, 0, 0, 0, 1, 0, 0, 0,\n",
              "        0, 0, 0, 1, 0, 0, 0, 0, 0, 0, 0, 1, 0, 0, 0, 0, 0, 0, 0, 0, 0, 0,\n",
              "        0, 0, 1, 0, 0, 1, 0, 0, 0, 0, 0, 0, 0, 1, 0, 0, 0, 0, 0, 0, 1, 0,\n",
              "        0, 0, 0, 0, 0, 0, 0, 0, 0, 0, 0, 1, 0, 0, 0, 1, 0, 0, 1, 1, 0, 0,\n",
              "        0, 0, 0],\n",
              "       [0, 1, 0, 1, 0, 1, 0, 0, 1, 1, 1, 0, 1, 0, 1, 0, 1, 1, 0, 0, 0, 0,\n",
              "        1, 0, 1, 1, 0, 1, 0, 1, 0, 0, 1, 0, 0, 1, 1, 0, 1, 1, 1, 0, 0, 1,\n",
              "        0, 0, 0, 1, 0, 0, 0, 1, 0, 0, 1, 0, 1, 0, 0, 1, 0, 1, 0, 0, 0, 0,\n",
              "        0, 1, 0, 0, 1, 1, 1, 1, 1, 1, 1, 0, 0, 0, 1, 0, 1, 1, 1, 0, 1, 1,\n",
              "        1, 0, 0],\n",
              "       [0, 0, 1, 0, 0, 0, 1, 0, 0, 0, 0, 0, 0, 0, 0, 0, 0, 0, 0, 0, 0, 0,\n",
              "        1, 0, 0, 0, 0, 0, 0, 0, 0, 0, 0, 0, 1, 0, 0, 0, 0, 0, 0, 0, 1, 0,\n",
              "        0, 0, 0, 0, 0, 0, 0, 0, 1, 0, 0, 0, 0, 0, 0, 0, 0, 0, 0, 1, 0, 0,\n",
              "        0, 0, 0, 0, 0, 0, 0, 0, 0, 0, 0, 0, 0, 0, 1, 0, 0, 0, 0, 0, 0, 0,\n",
              "        0, 1, 0]])"
            ]
          },
          "metadata": {},
          "execution_count": 38
        }
      ]
    },
    {
      "cell_type": "code",
      "source": [
        "import pandas as pd\n",
        "df = pd.DataFrame(x)"
      ],
      "metadata": {
        "id": "dV4Zfyhb-t9u"
      },
      "execution_count": 39,
      "outputs": []
    },
    {
      "cell_type": "code",
      "source": [
        "df.head()"
      ],
      "metadata": {
        "colab": {
          "base_uri": "https://localhost:8080/",
          "height": 235
        },
        "id": "waCtiSG68bki",
        "outputId": "910cbbe2-23b6-412f-dd68-c1a0f69b90e3"
      },
      "execution_count": 40,
      "outputs": [
        {
          "output_type": "execute_result",
          "data": {
            "text/plain": [
              "   0   1   2   3   4   5   6   7   8   9   ...  81  82  83  84  85  86  87  \\\n",
              "0   1   0   0   0   0   0   0   0   0   0  ...   0   0   0   0   0   0   1   \n",
              "1   0   0   0   0   0   0   0   0   0   0  ...   0   0   0   0   0   0   0   \n",
              "2   0   0   0   0   1   0   0   1   0   0  ...   1   0   0   0   0   0   0   \n",
              "3   0   0   0   0   0   0   0   0   0   0  ...   1   0   0   1   1   0   0   \n",
              "4   0   1   0   1   0   1   0   0   1   1  ...   0   1   1   1   0   1   1   \n",
              "\n",
              "   88  89  90  \n",
              "0   0   0   1  \n",
              "1   0   0   0  \n",
              "2   0   0   0  \n",
              "3   0   0   0  \n",
              "4   1   0   0  \n",
              "\n",
              "[5 rows x 91 columns]"
            ],
            "text/html": [
              "\n",
              "\n",
              "  <div id=\"df-b3b91f18-9d4d-4217-bf3b-9929eb4fd586\">\n",
              "    <div class=\"colab-df-container\">\n",
              "      <div>\n",
              "<style scoped>\n",
              "    .dataframe tbody tr th:only-of-type {\n",
              "        vertical-align: middle;\n",
              "    }\n",
              "\n",
              "    .dataframe tbody tr th {\n",
              "        vertical-align: top;\n",
              "    }\n",
              "\n",
              "    .dataframe thead th {\n",
              "        text-align: right;\n",
              "    }\n",
              "</style>\n",
              "<table border=\"1\" class=\"dataframe\">\n",
              "  <thead>\n",
              "    <tr style=\"text-align: right;\">\n",
              "      <th></th>\n",
              "      <th>0</th>\n",
              "      <th>1</th>\n",
              "      <th>2</th>\n",
              "      <th>3</th>\n",
              "      <th>4</th>\n",
              "      <th>5</th>\n",
              "      <th>6</th>\n",
              "      <th>7</th>\n",
              "      <th>8</th>\n",
              "      <th>9</th>\n",
              "      <th>...</th>\n",
              "      <th>81</th>\n",
              "      <th>82</th>\n",
              "      <th>83</th>\n",
              "      <th>84</th>\n",
              "      <th>85</th>\n",
              "      <th>86</th>\n",
              "      <th>87</th>\n",
              "      <th>88</th>\n",
              "      <th>89</th>\n",
              "      <th>90</th>\n",
              "    </tr>\n",
              "  </thead>\n",
              "  <tbody>\n",
              "    <tr>\n",
              "      <th>0</th>\n",
              "      <td>1</td>\n",
              "      <td>0</td>\n",
              "      <td>0</td>\n",
              "      <td>0</td>\n",
              "      <td>0</td>\n",
              "      <td>0</td>\n",
              "      <td>0</td>\n",
              "      <td>0</td>\n",
              "      <td>0</td>\n",
              "      <td>0</td>\n",
              "      <td>...</td>\n",
              "      <td>0</td>\n",
              "      <td>0</td>\n",
              "      <td>0</td>\n",
              "      <td>0</td>\n",
              "      <td>0</td>\n",
              "      <td>0</td>\n",
              "      <td>1</td>\n",
              "      <td>0</td>\n",
              "      <td>0</td>\n",
              "      <td>1</td>\n",
              "    </tr>\n",
              "    <tr>\n",
              "      <th>1</th>\n",
              "      <td>0</td>\n",
              "      <td>0</td>\n",
              "      <td>0</td>\n",
              "      <td>0</td>\n",
              "      <td>0</td>\n",
              "      <td>0</td>\n",
              "      <td>0</td>\n",
              "      <td>0</td>\n",
              "      <td>0</td>\n",
              "      <td>0</td>\n",
              "      <td>...</td>\n",
              "      <td>0</td>\n",
              "      <td>0</td>\n",
              "      <td>0</td>\n",
              "      <td>0</td>\n",
              "      <td>0</td>\n",
              "      <td>0</td>\n",
              "      <td>0</td>\n",
              "      <td>0</td>\n",
              "      <td>0</td>\n",
              "      <td>0</td>\n",
              "    </tr>\n",
              "    <tr>\n",
              "      <th>2</th>\n",
              "      <td>0</td>\n",
              "      <td>0</td>\n",
              "      <td>0</td>\n",
              "      <td>0</td>\n",
              "      <td>1</td>\n",
              "      <td>0</td>\n",
              "      <td>0</td>\n",
              "      <td>1</td>\n",
              "      <td>0</td>\n",
              "      <td>0</td>\n",
              "      <td>...</td>\n",
              "      <td>1</td>\n",
              "      <td>0</td>\n",
              "      <td>0</td>\n",
              "      <td>0</td>\n",
              "      <td>0</td>\n",
              "      <td>0</td>\n",
              "      <td>0</td>\n",
              "      <td>0</td>\n",
              "      <td>0</td>\n",
              "      <td>0</td>\n",
              "    </tr>\n",
              "    <tr>\n",
              "      <th>3</th>\n",
              "      <td>0</td>\n",
              "      <td>0</td>\n",
              "      <td>0</td>\n",
              "      <td>0</td>\n",
              "      <td>0</td>\n",
              "      <td>0</td>\n",
              "      <td>0</td>\n",
              "      <td>0</td>\n",
              "      <td>0</td>\n",
              "      <td>0</td>\n",
              "      <td>...</td>\n",
              "      <td>1</td>\n",
              "      <td>0</td>\n",
              "      <td>0</td>\n",
              "      <td>1</td>\n",
              "      <td>1</td>\n",
              "      <td>0</td>\n",
              "      <td>0</td>\n",
              "      <td>0</td>\n",
              "      <td>0</td>\n",
              "      <td>0</td>\n",
              "    </tr>\n",
              "    <tr>\n",
              "      <th>4</th>\n",
              "      <td>0</td>\n",
              "      <td>1</td>\n",
              "      <td>0</td>\n",
              "      <td>1</td>\n",
              "      <td>0</td>\n",
              "      <td>1</td>\n",
              "      <td>0</td>\n",
              "      <td>0</td>\n",
              "      <td>1</td>\n",
              "      <td>1</td>\n",
              "      <td>...</td>\n",
              "      <td>0</td>\n",
              "      <td>1</td>\n",
              "      <td>1</td>\n",
              "      <td>1</td>\n",
              "      <td>0</td>\n",
              "      <td>1</td>\n",
              "      <td>1</td>\n",
              "      <td>1</td>\n",
              "      <td>0</td>\n",
              "      <td>0</td>\n",
              "    </tr>\n",
              "  </tbody>\n",
              "</table>\n",
              "<p>5 rows × 91 columns</p>\n",
              "</div>\n",
              "      <button class=\"colab-df-convert\" onclick=\"convertToInteractive('df-b3b91f18-9d4d-4217-bf3b-9929eb4fd586')\"\n",
              "              title=\"Convert this dataframe to an interactive table.\"\n",
              "              style=\"display:none;\">\n",
              "\n",
              "  <svg xmlns=\"http://www.w3.org/2000/svg\" height=\"24px\"viewBox=\"0 0 24 24\"\n",
              "       width=\"24px\">\n",
              "    <path d=\"M0 0h24v24H0V0z\" fill=\"none\"/>\n",
              "    <path d=\"M18.56 5.44l.94 2.06.94-2.06 2.06-.94-2.06-.94-.94-2.06-.94 2.06-2.06.94zm-11 1L8.5 8.5l.94-2.06 2.06-.94-2.06-.94L8.5 2.5l-.94 2.06-2.06.94zm10 10l.94 2.06.94-2.06 2.06-.94-2.06-.94-.94-2.06-.94 2.06-2.06.94z\"/><path d=\"M17.41 7.96l-1.37-1.37c-.4-.4-.92-.59-1.43-.59-.52 0-1.04.2-1.43.59L10.3 9.45l-7.72 7.72c-.78.78-.78 2.05 0 2.83L4 21.41c.39.39.9.59 1.41.59.51 0 1.02-.2 1.41-.59l7.78-7.78 2.81-2.81c.8-.78.8-2.07 0-2.86zM5.41 20L4 18.59l7.72-7.72 1.47 1.35L5.41 20z\"/>\n",
              "  </svg>\n",
              "      </button>\n",
              "\n",
              "\n",
              "\n",
              "    <div id=\"df-fa90d4cf-7d0f-43a7-b183-b59575557dfe\">\n",
              "      <button class=\"colab-df-quickchart\" onclick=\"quickchart('df-fa90d4cf-7d0f-43a7-b183-b59575557dfe')\"\n",
              "              title=\"Suggest charts.\"\n",
              "              style=\"display:none;\">\n",
              "\n",
              "<svg xmlns=\"http://www.w3.org/2000/svg\" height=\"24px\"viewBox=\"0 0 24 24\"\n",
              "     width=\"24px\">\n",
              "    <g>\n",
              "        <path d=\"M19 3H5c-1.1 0-2 .9-2 2v14c0 1.1.9 2 2 2h14c1.1 0 2-.9 2-2V5c0-1.1-.9-2-2-2zM9 17H7v-7h2v7zm4 0h-2V7h2v10zm4 0h-2v-4h2v4z\"/>\n",
              "    </g>\n",
              "</svg>\n",
              "      </button>\n",
              "    </div>\n",
              "\n",
              "<style>\n",
              "  .colab-df-quickchart {\n",
              "    background-color: #E8F0FE;\n",
              "    border: none;\n",
              "    border-radius: 50%;\n",
              "    cursor: pointer;\n",
              "    display: none;\n",
              "    fill: #1967D2;\n",
              "    height: 32px;\n",
              "    padding: 0 0 0 0;\n",
              "    width: 32px;\n",
              "  }\n",
              "\n",
              "  .colab-df-quickchart:hover {\n",
              "    background-color: #E2EBFA;\n",
              "    box-shadow: 0px 1px 2px rgba(60, 64, 67, 0.3), 0px 1px 3px 1px rgba(60, 64, 67, 0.15);\n",
              "    fill: #174EA6;\n",
              "  }\n",
              "\n",
              "  [theme=dark] .colab-df-quickchart {\n",
              "    background-color: #3B4455;\n",
              "    fill: #D2E3FC;\n",
              "  }\n",
              "\n",
              "  [theme=dark] .colab-df-quickchart:hover {\n",
              "    background-color: #434B5C;\n",
              "    box-shadow: 0px 1px 3px 1px rgba(0, 0, 0, 0.15);\n",
              "    filter: drop-shadow(0px 1px 2px rgba(0, 0, 0, 0.3));\n",
              "    fill: #FFFFFF;\n",
              "  }\n",
              "</style>\n",
              "\n",
              "    <script>\n",
              "      async function quickchart(key) {\n",
              "        const containerElement = document.querySelector('#' + key);\n",
              "        const charts = await google.colab.kernel.invokeFunction(\n",
              "            'suggestCharts', [key], {});\n",
              "      }\n",
              "    </script>\n",
              "\n",
              "      <script>\n",
              "\n",
              "function displayQuickchartButton(domScope) {\n",
              "  let quickchartButtonEl =\n",
              "    domScope.querySelector('#df-fa90d4cf-7d0f-43a7-b183-b59575557dfe button.colab-df-quickchart');\n",
              "  quickchartButtonEl.style.display =\n",
              "    google.colab.kernel.accessAllowed ? 'block' : 'none';\n",
              "}\n",
              "\n",
              "        displayQuickchartButton(document);\n",
              "      </script>\n",
              "      <style>\n",
              "    .colab-df-container {\n",
              "      display:flex;\n",
              "      flex-wrap:wrap;\n",
              "      gap: 12px;\n",
              "    }\n",
              "\n",
              "    .colab-df-convert {\n",
              "      background-color: #E8F0FE;\n",
              "      border: none;\n",
              "      border-radius: 50%;\n",
              "      cursor: pointer;\n",
              "      display: none;\n",
              "      fill: #1967D2;\n",
              "      height: 32px;\n",
              "      padding: 0 0 0 0;\n",
              "      width: 32px;\n",
              "    }\n",
              "\n",
              "    .colab-df-convert:hover {\n",
              "      background-color: #E2EBFA;\n",
              "      box-shadow: 0px 1px 2px rgba(60, 64, 67, 0.3), 0px 1px 3px 1px rgba(60, 64, 67, 0.15);\n",
              "      fill: #174EA6;\n",
              "    }\n",
              "\n",
              "    [theme=dark] .colab-df-convert {\n",
              "      background-color: #3B4455;\n",
              "      fill: #D2E3FC;\n",
              "    }\n",
              "\n",
              "    [theme=dark] .colab-df-convert:hover {\n",
              "      background-color: #434B5C;\n",
              "      box-shadow: 0px 1px 3px 1px rgba(0, 0, 0, 0.15);\n",
              "      filter: drop-shadow(0px 1px 2px rgba(0, 0, 0, 0.3));\n",
              "      fill: #FFFFFF;\n",
              "    }\n",
              "  </style>\n",
              "\n",
              "      <script>\n",
              "        const buttonEl =\n",
              "          document.querySelector('#df-b3b91f18-9d4d-4217-bf3b-9929eb4fd586 button.colab-df-convert');\n",
              "        buttonEl.style.display =\n",
              "          google.colab.kernel.accessAllowed ? 'block' : 'none';\n",
              "\n",
              "        async function convertToInteractive(key) {\n",
              "          const element = document.querySelector('#df-b3b91f18-9d4d-4217-bf3b-9929eb4fd586');\n",
              "          const dataTable =\n",
              "            await google.colab.kernel.invokeFunction('convertToInteractive',\n",
              "                                                     [key], {});\n",
              "          if (!dataTable) return;\n",
              "\n",
              "          const docLinkHtml = 'Like what you see? Visit the ' +\n",
              "            '<a target=\"_blank\" href=https://colab.research.google.com/notebooks/data_table.ipynb>data table notebook</a>'\n",
              "            + ' to learn more about interactive tables.';\n",
              "          element.innerHTML = '';\n",
              "          dataTable['output_type'] = 'display_data';\n",
              "          await google.colab.output.renderOutput(dataTable, element);\n",
              "          const docLink = document.createElement('div');\n",
              "          docLink.innerHTML = docLinkHtml;\n",
              "          element.appendChild(docLink);\n",
              "        }\n",
              "      </script>\n",
              "    </div>\n",
              "  </div>\n"
            ]
          },
          "metadata": {},
          "execution_count": 40
        }
      ]
    },
    {
      "cell_type": "code",
      "source": [
        "df.shape"
      ],
      "metadata": {
        "colab": {
          "base_uri": "https://localhost:8080/"
        },
        "id": "ultnADPO8bmR",
        "outputId": "d56b3dfd-5607-4047-b4d3-21376c2f6eb3"
      },
      "execution_count": 41,
      "outputs": [
        {
          "output_type": "execute_result",
          "data": {
            "text/plain": [
              "(6, 91)"
            ]
          },
          "metadata": {},
          "execution_count": 41
        }
      ]
    },
    {
      "cell_type": "code",
      "source": [
        "# Bag of Word\n",
        "# Converting text to vector\n",
        "    # Binary BOW\n",
        "    # Boolean BOW\n",
        "# creating more sparse matrix - Zero value - disadvantage\n",
        "# we cannot figureout which word is more significant - disadvantage"
      ],
      "metadata": {
        "id": "Ve8uySQP8bpv"
      },
      "execution_count": 42,
      "outputs": []
    },
    {
      "cell_type": "markdown",
      "source": [
        "# Text to Speech"
      ],
      "metadata": {
        "id": "LFrM0CnsEHao"
      }
    },
    {
      "cell_type": "code",
      "source": [
        "import os\n",
        "os.getcwd()"
      ],
      "metadata": {
        "colab": {
          "base_uri": "https://localhost:8080/",
          "height": 36
        },
        "id": "CAZHZHEWCyxh",
        "outputId": "79ebcdb8-11c5-42e8-8c5c-4a2f2b100883"
      },
      "execution_count": 43,
      "outputs": [
        {
          "output_type": "execute_result",
          "data": {
            "text/plain": [
              "'/content'"
            ],
            "application/vnd.google.colaboratory.intrinsic+json": {
              "type": "string"
            }
          },
          "metadata": {},
          "execution_count": 43
        }
      ]
    },
    {
      "cell_type": "code",
      "source": [
        "!pip install gTTS\n",
        "# gTTS  - google text to speech"
      ],
      "metadata": {
        "colab": {
          "base_uri": "https://localhost:8080/"
        },
        "id": "XfXduICNEKAV",
        "outputId": "41da4ed1-2a8c-4347-be56-39f24439f060"
      },
      "execution_count": 44,
      "outputs": [
        {
          "output_type": "stream",
          "name": "stdout",
          "text": [
            "Collecting gTTS\n",
            "  Downloading gTTS-2.3.2-py3-none-any.whl (28 kB)\n",
            "Requirement already satisfied: requests<3,>=2.27 in /usr/local/lib/python3.10/dist-packages (from gTTS) (2.27.1)\n",
            "Requirement already satisfied: click<8.2,>=7.1 in /usr/local/lib/python3.10/dist-packages (from gTTS) (8.1.4)\n",
            "Requirement already satisfied: urllib3<1.27,>=1.21.1 in /usr/local/lib/python3.10/dist-packages (from requests<3,>=2.27->gTTS) (1.26.16)\n",
            "Requirement already satisfied: certifi>=2017.4.17 in /usr/local/lib/python3.10/dist-packages (from requests<3,>=2.27->gTTS) (2023.5.7)\n",
            "Requirement already satisfied: charset-normalizer~=2.0.0 in /usr/local/lib/python3.10/dist-packages (from requests<3,>=2.27->gTTS) (2.0.12)\n",
            "Requirement already satisfied: idna<4,>=2.5 in /usr/local/lib/python3.10/dist-packages (from requests<3,>=2.27->gTTS) (3.4)\n",
            "Installing collected packages: gTTS\n",
            "Successfully installed gTTS-2.3.2\n"
          ]
        }
      ]
    },
    {
      "cell_type": "code",
      "source": [
        "from gtts import gTTS"
      ],
      "metadata": {
        "id": "rjKRPpGLEKB2"
      },
      "execution_count": 45,
      "outputs": []
    },
    {
      "cell_type": "code",
      "source": [
        "my_sentence = input('Please enter your sentence here to convert into audio : \\n>')"
      ],
      "metadata": {
        "colab": {
          "base_uri": "https://localhost:8080/"
        },
        "id": "BWCziY9OEKFB",
        "outputId": "f1ebfb14-b223-42d4-c3ad-0f21fcc4ddda"
      },
      "execution_count": 48,
      "outputs": [
        {
          "name": "stdout",
          "output_type": "stream",
          "text": [
            "Please enter your sentence here to convert into audio : \n",
            ">While the panel will help finalise survey results, the NSC will have the ultimate authority to approve the publication of those results. The government had reconstituted the NSC last December, appointing Rajeeva Laxman Karandikar, Professor Emeritus at the Chennai Mathematical Institute, as its part-time chairperson. While the NSC still has two vacancies, the appointments of Mr. Karandikar and two other part-time members were notified on May 30 this year.\n"
          ]
        }
      ]
    },
    {
      "cell_type": "code",
      "source": [
        "sentence = gTTS(text=my_sentence, lang='en')"
      ],
      "metadata": {
        "id": "DZNwyA2iEKGo"
      },
      "execution_count": 49,
      "outputs": []
    },
    {
      "cell_type": "code",
      "source": [
        "sentence.save('english.mp3')"
      ],
      "metadata": {
        "id": "hwV6dgfhEKKe"
      },
      "execution_count": 50,
      "outputs": []
    },
    {
      "cell_type": "code",
      "source": [
        "# other Language"
      ],
      "metadata": {
        "id": "fxcqooq3EKTz"
      },
      "execution_count": 51,
      "outputs": []
    },
    {
      "cell_type": "code",
      "source": [
        "my_sentence = input('Please enter your sentence here to convert into audio : \\n')"
      ],
      "metadata": {
        "colab": {
          "base_uri": "https://localhost:8080/"
        },
        "id": "ANWfBh1LEKVs",
        "outputId": "8f02af15-3757-4dc7-e566-6128403b4f89"
      },
      "execution_count": 52,
      "outputs": [
        {
          "name": "stdout",
          "output_type": "stream",
          "text": [
            "Please enter your sentence here to convert into audio : \n",
            "এ বার বড় পর্দায় রবীন্দ্রনাথ ঠাকুর। কবিগুরুর সৃষ্ট গান, কবিতা, গল্প বা নাটক নিয়ে নয়— এ বার স্বয়ং তাঁকে নিয়েই কাজ বলিউডে। রবি ঠাকুরের চরিত্রে ইতিমধ্যেই চূড়ান্ত হয়ে গিয়েছেন অভিনেতাও। সম্প্রতি সমাজমাধ্যমের পাতায় প্রকাশ্যে এসেছে রবীন্দ্রনাথের বেশে সেই অভিনেতার ‘লুক’ও। বড় পর্দায় রবীন্দ্রনাথের বেশে দেখা যেতে চলেছে কোন বলিউড অভিনেতাকে?\n"
          ]
        }
      ]
    },
    {
      "cell_type": "code",
      "source": [
        "sentence = gTTS(text=my_sentence, lang='bn')"
      ],
      "metadata": {
        "id": "uSJ3aW72EKZU"
      },
      "execution_count": 53,
      "outputs": []
    },
    {
      "cell_type": "code",
      "source": [
        "sentence.save('english.mp3')"
      ],
      "metadata": {
        "id": "jg3DlbeYCyzC"
      },
      "execution_count": 64,
      "outputs": []
    },
    {
      "cell_type": "code",
      "source": [
        "my_sentence = input('Please enter your sentence here to convert into audio : \\n')"
      ],
      "metadata": {
        "colab": {
          "base_uri": "https://localhost:8080/"
        },
        "id": "OqnAwMUOLPyO",
        "outputId": "31c4122f-c628-42a2-d1de-db915a8b5848"
      },
      "execution_count": 65,
      "outputs": [
        {
          "name": "stdout",
          "output_type": "stream",
          "text": [
            "Please enter your sentence here to convert into audio : \n",
            "এসো আমার ঘরে।বাহির হয়ে এসো তুমি যে আছ অন্তরে॥ স্বপনদুয়ার খুলে এসো অরুণ-আলোকে, মুগ্ধ এ চোখে। ক্ষণকালের আভাস হতে, চিরকালের তরে এসো আমার ঘরে॥\n"
          ]
        }
      ]
    },
    {
      "cell_type": "code",
      "source": [
        "sentence = gTTS(text=my_sentence, lang='bn')"
      ],
      "metadata": {
        "id": "icZ6NsUNLSQx"
      },
      "execution_count": 66,
      "outputs": []
    },
    {
      "cell_type": "code",
      "source": [
        "sentence.save('bengali_telugu.mp3')"
      ],
      "metadata": {
        "id": "y-Gosf4FLdT6"
      },
      "execution_count": 68,
      "outputs": []
    },
    {
      "cell_type": "code",
      "source": [],
      "metadata": {
        "id": "Ltkfw-_jLdlw"
      },
      "execution_count": null,
      "outputs": []
    }
  ]
}