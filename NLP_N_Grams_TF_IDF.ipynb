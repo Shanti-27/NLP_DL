{
  "nbformat": 4,
  "nbformat_minor": 0,
  "metadata": {
    "colab": {
      "provenance": []
    },
    "kernelspec": {
      "name": "python3",
      "display_name": "Python 3"
    },
    "language_info": {
      "name": "python"
    }
  },
  "cells": [
    {
      "cell_type": "markdown",
      "source": [
        "# TEXTBLOB\n"
      ],
      "metadata": {
        "id": "CXeGXUKdQHdn"
      }
    },
    {
      "cell_type": "code",
      "source": [
        "!pip install -U textblob\n",
        "!python -m textblob.download_corpora"
      ],
      "metadata": {
        "colab": {
          "base_uri": "https://localhost:8080/"
        },
        "id": "v4fuT5v8NVDf",
        "outputId": "57269ba9-6cfd-4483-c67b-bbf334ffcb1e"
      },
      "execution_count": 30,
      "outputs": [
        {
          "output_type": "stream",
          "name": "stdout",
          "text": [
            "Requirement already satisfied: textblob in /usr/local/lib/python3.10/dist-packages (0.17.1)\n",
            "Requirement already satisfied: nltk>=3.1 in /usr/local/lib/python3.10/dist-packages (from textblob) (3.8.1)\n",
            "Requirement already satisfied: click in /usr/local/lib/python3.10/dist-packages (from nltk>=3.1->textblob) (8.1.4)\n",
            "Requirement already satisfied: joblib in /usr/local/lib/python3.10/dist-packages (from nltk>=3.1->textblob) (1.3.1)\n",
            "Requirement already satisfied: regex>=2021.8.3 in /usr/local/lib/python3.10/dist-packages (from nltk>=3.1->textblob) (2022.10.31)\n",
            "Requirement already satisfied: tqdm in /usr/local/lib/python3.10/dist-packages (from nltk>=3.1->textblob) (4.65.0)\n",
            "[nltk_data] Downloading package brown to /root/nltk_data...\n",
            "[nltk_data]   Package brown is already up-to-date!\n",
            "[nltk_data] Downloading package punkt to /root/nltk_data...\n",
            "[nltk_data]   Package punkt is already up-to-date!\n",
            "[nltk_data] Downloading package wordnet to /root/nltk_data...\n",
            "[nltk_data]   Package wordnet is already up-to-date!\n",
            "[nltk_data] Downloading package averaged_perceptron_tagger to\n",
            "[nltk_data]     /root/nltk_data...\n",
            "[nltk_data]   Package averaged_perceptron_tagger is already up-to-\n",
            "[nltk_data]       date!\n",
            "[nltk_data] Downloading package conll2000 to /root/nltk_data...\n",
            "[nltk_data]   Package conll2000 is already up-to-date!\n",
            "[nltk_data] Downloading package movie_reviews to /root/nltk_data...\n",
            "[nltk_data]   Package movie_reviews is already up-to-date!\n",
            "Finished.\n"
          ]
        }
      ]
    },
    {
      "cell_type": "code",
      "source": [
        "from textblob import TextBlob"
      ],
      "metadata": {
        "id": "agWEnLX3NVFa"
      },
      "execution_count": 32,
      "outputs": []
    },
    {
      "cell_type": "markdown",
      "source": [
        "# N-Gram method"
      ],
      "metadata": {
        "id": "ScIjsjV1QeSK"
      }
    },
    {
      "cell_type": "code",
      "source": [
        "blob = TextBlob('Hello, Good Morning everyone ! Hopw you all are doing well.')\n",
        "blob"
      ],
      "metadata": {
        "colab": {
          "base_uri": "https://localhost:8080/"
        },
        "id": "4f9qw58bNVIc",
        "outputId": "ac859fa0-6ca4-4db5-9cb3-6ce2c5997028"
      },
      "execution_count": 33,
      "outputs": [
        {
          "output_type": "execute_result",
          "data": {
            "text/plain": [
              "TextBlob(\"Hello, Good Morning everyone ! Hopw you all are doing well.\")"
            ]
          },
          "metadata": {},
          "execution_count": 33
        }
      ]
    },
    {
      "cell_type": "code",
      "source": [
        "# Uni- gram\n",
        "blob.ngrams(n=1)"
      ],
      "metadata": {
        "colab": {
          "base_uri": "https://localhost:8080/"
        },
        "id": "GnylsZ-bNVJg",
        "outputId": "4da9ccbc-20f4-4491-937d-af735641ebc9"
      },
      "execution_count": 34,
      "outputs": [
        {
          "output_type": "execute_result",
          "data": {
            "text/plain": [
              "[WordList(['Hello']),\n",
              " WordList(['Good']),\n",
              " WordList(['Morning']),\n",
              " WordList(['everyone']),\n",
              " WordList(['Hopw']),\n",
              " WordList(['you']),\n",
              " WordList(['all']),\n",
              " WordList(['are']),\n",
              " WordList(['doing']),\n",
              " WordList(['well'])]"
            ]
          },
          "metadata": {},
          "execution_count": 34
        }
      ]
    },
    {
      "cell_type": "code",
      "source": [
        "# Bi-gram\n",
        "blob.ngrams(n=2)"
      ],
      "metadata": {
        "colab": {
          "base_uri": "https://localhost:8080/"
        },
        "id": "hlIeAVuFNVKm",
        "outputId": "7eb6c282-1147-438e-ad32-b898bb7b00a7"
      },
      "execution_count": 35,
      "outputs": [
        {
          "output_type": "execute_result",
          "data": {
            "text/plain": [
              "[WordList(['Hello', 'Good']),\n",
              " WordList(['Good', 'Morning']),\n",
              " WordList(['Morning', 'everyone']),\n",
              " WordList(['everyone', 'Hopw']),\n",
              " WordList(['Hopw', 'you']),\n",
              " WordList(['you', 'all']),\n",
              " WordList(['all', 'are']),\n",
              " WordList(['are', 'doing']),\n",
              " WordList(['doing', 'well'])]"
            ]
          },
          "metadata": {},
          "execution_count": 35
        }
      ]
    },
    {
      "cell_type": "code",
      "source": [
        "# Tri-gram\n",
        "blob.ngrams(n=3)"
      ],
      "metadata": {
        "colab": {
          "base_uri": "https://localhost:8080/"
        },
        "id": "IwOGAgKxNVMv",
        "outputId": "65606a5e-d1ad-4b73-f7bd-7aa03fbf1f45"
      },
      "execution_count": 36,
      "outputs": [
        {
          "output_type": "execute_result",
          "data": {
            "text/plain": [
              "[WordList(['Hello', 'Good', 'Morning']),\n",
              " WordList(['Good', 'Morning', 'everyone']),\n",
              " WordList(['Morning', 'everyone', 'Hopw']),\n",
              " WordList(['everyone', 'Hopw', 'you']),\n",
              " WordList(['Hopw', 'you', 'all']),\n",
              " WordList(['you', 'all', 'are']),\n",
              " WordList(['all', 'are', 'doing']),\n",
              " WordList(['are', 'doing', 'well'])]"
            ]
          },
          "metadata": {},
          "execution_count": 36
        }
      ]
    },
    {
      "cell_type": "code",
      "source": [
        "# Tetra-gram\n",
        "blob.ngrams(n=4)"
      ],
      "metadata": {
        "colab": {
          "base_uri": "https://localhost:8080/"
        },
        "id": "W_dgcfurNVOY",
        "outputId": "939029ce-80fb-49b1-f7a9-c838c348b770"
      },
      "execution_count": 37,
      "outputs": [
        {
          "output_type": "execute_result",
          "data": {
            "text/plain": [
              "[WordList(['Hello', 'Good', 'Morning', 'everyone']),\n",
              " WordList(['Good', 'Morning', 'everyone', 'Hopw']),\n",
              " WordList(['Morning', 'everyone', 'Hopw', 'you']),\n",
              " WordList(['everyone', 'Hopw', 'you', 'all']),\n",
              " WordList(['Hopw', 'you', 'all', 'are']),\n",
              " WordList(['you', 'all', 'are', 'doing']),\n",
              " WordList(['all', 'are', 'doing', 'well'])]"
            ]
          },
          "metadata": {},
          "execution_count": 37
        }
      ]
    },
    {
      "cell_type": "code",
      "source": [
        "from textblob import Word\n",
        "from textblob.wordnet import VERB"
      ],
      "metadata": {
        "id": "iy4x9Bc6NVSE"
      },
      "execution_count": 38,
      "outputs": []
    },
    {
      "cell_type": "code",
      "source": [
        "my_sentence = TextBlob(\"You are good.\"\n",
        "                      \"He is simply brillent.\"\n",
        "                      \"I am teaching NLP.\"\n",
        "                      \"He is expert in NLP.\"\n",
        "                      \"You are doing well.\")"
      ],
      "metadata": {
        "id": "ZT8UAI8cNUDO"
      },
      "execution_count": 39,
      "outputs": []
    },
    {
      "cell_type": "code",
      "source": [
        "my_sentence"
      ],
      "metadata": {
        "colab": {
          "base_uri": "https://localhost:8080/"
        },
        "id": "p7RKoyuRNUE-",
        "outputId": "17b67675-7b6a-42ad-f7a3-6ff906751c77"
      },
      "execution_count": 40,
      "outputs": [
        {
          "output_type": "execute_result",
          "data": {
            "text/plain": [
              "TextBlob(\"You are good.He is simply brillent.I am teaching NLP.He is expert in NLP.You are doing well.\")"
            ]
          },
          "metadata": {},
          "execution_count": 40
        }
      ]
    },
    {
      "cell_type": "code",
      "source": [
        "my_sentence.words.count(\"is\")"
      ],
      "metadata": {
        "colab": {
          "base_uri": "https://localhost:8080/"
        },
        "id": "fL4uQLonNUH_",
        "outputId": "5c1fd168-2834-40a5-a6de-50721a93b36b"
      },
      "execution_count": 41,
      "outputs": [
        {
          "output_type": "execute_result",
          "data": {
            "text/plain": [
              "2"
            ]
          },
          "metadata": {},
          "execution_count": 41
        }
      ]
    },
    {
      "cell_type": "code",
      "source": [
        "my_sentence.words.count(\"are\")"
      ],
      "metadata": {
        "colab": {
          "base_uri": "https://localhost:8080/"
        },
        "id": "M99P7F_ZNUJw",
        "outputId": "440b50e1-ac64-4e9a-df47-73d41ceca3c8"
      },
      "execution_count": 42,
      "outputs": [
        {
          "output_type": "execute_result",
          "data": {
            "text/plain": [
              "2"
            ]
          },
          "metadata": {},
          "execution_count": 42
        }
      ]
    },
    {
      "cell_type": "code",
      "source": [
        "my_sentence.sentences"
      ],
      "metadata": {
        "colab": {
          "base_uri": "https://localhost:8080/"
        },
        "id": "7a4IpJmpNUMo",
        "outputId": "83472275-a1f2-49b8-fb8b-42496ac48a7e"
      },
      "execution_count": 43,
      "outputs": [
        {
          "output_type": "execute_result",
          "data": {
            "text/plain": [
              "[Sentence(\"You are good.He is simply brillent.I am teaching NLP.He is expert in NLP.You are doing well.\")]"
            ]
          },
          "metadata": {},
          "execution_count": 43
        }
      ]
    },
    {
      "cell_type": "code",
      "source": [
        "paragraph = TextBlob(\"The SCES, which had 28 members, including 10 non-official members, was also chaired by Mr. Sen. The panel was mandated to review the framework for economic indicators pertaining to the industrial sector, the services sector and the labour force statistics. This meant that their purview was limited to datasets like the Periodic Labour Force Survey, the Annual Survey of Industries, the Index of Industrial Production and the Economic Census.\")"
      ],
      "metadata": {
        "id": "XvmFecZXNUOG"
      },
      "execution_count": 48,
      "outputs": []
    },
    {
      "cell_type": "code",
      "source": [
        "paragraph.word_counts"
      ],
      "metadata": {
        "colab": {
          "base_uri": "https://localhost:8080/"
        },
        "id": "lJ4LjcNsNUSr",
        "outputId": "93c84220-7972-4fca-b485-b02a3fbe5ea0"
      },
      "execution_count": 49,
      "outputs": [
        {
          "output_type": "execute_result",
          "data": {
            "text/plain": [
              "defaultdict(int,\n",
              "            {'the': 10,\n",
              "             'sces': 1,\n",
              "             'which': 1,\n",
              "             'had': 1,\n",
              "             '28': 1,\n",
              "             'members': 2,\n",
              "             'including': 1,\n",
              "             '10': 1,\n",
              "             'non-official': 1,\n",
              "             'was': 3,\n",
              "             'also': 1,\n",
              "             'chaired': 1,\n",
              "             'by': 1,\n",
              "             'mr': 1,\n",
              "             'sen': 1,\n",
              "             'panel': 1,\n",
              "             'mandated': 1,\n",
              "             'to': 3,\n",
              "             'review': 1,\n",
              "             'framework': 1,\n",
              "             'for': 1,\n",
              "             'economic': 2,\n",
              "             'indicators': 1,\n",
              "             'pertaining': 1,\n",
              "             'industrial': 2,\n",
              "             'sector': 2,\n",
              "             'services': 1,\n",
              "             'and': 2,\n",
              "             'labour': 2,\n",
              "             'force': 2,\n",
              "             'statistics': 1,\n",
              "             'this': 1,\n",
              "             'meant': 1,\n",
              "             'that': 1,\n",
              "             'their': 1,\n",
              "             'purview': 1,\n",
              "             'limited': 1,\n",
              "             'datasets': 1,\n",
              "             'like': 1,\n",
              "             'periodic': 1,\n",
              "             'survey': 2,\n",
              "             'annual': 1,\n",
              "             'of': 2,\n",
              "             'industries': 1,\n",
              "             'index': 1,\n",
              "             'production': 1,\n",
              "             'census': 1})"
            ]
          },
          "metadata": {},
          "execution_count": 49
        }
      ]
    },
    {
      "cell_type": "code",
      "source": [
        "sentence = TextBlob(\"Lionel Messi walked out from behind a curtain, took a few steps along a rain-slicked runaway set up over the field at Inter Miami's stadium and headed toward David Beckham for a big hug.\")"
      ],
      "metadata": {
        "id": "xRNWddFONUVt"
      },
      "execution_count": 50,
      "outputs": []
    },
    {
      "cell_type": "code",
      "source": [
        "sentence.words[10].pluralize()"
      ],
      "metadata": {
        "colab": {
          "base_uri": "https://localhost:8080/",
          "height": 36
        },
        "id": "dWocTyJ7NUW_",
        "outputId": "2af6e09b-fdc3-4c24-f9c1-fa8d2e6c2bb1"
      },
      "execution_count": 55,
      "outputs": [
        {
          "output_type": "execute_result",
          "data": {
            "text/plain": [
              "'fews'"
            ],
            "application/vnd.google.colaboratory.intrinsic+json": {
              "type": "string"
            }
          },
          "metadata": {},
          "execution_count": 55
        }
      ]
    },
    {
      "cell_type": "code",
      "source": [
        "# Learning purpose\n",
        "sentence = TextBlob(\"Jishnu is my best friend\")"
      ],
      "metadata": {
        "id": "TfRpmfrINUa2"
      },
      "execution_count": 57,
      "outputs": []
    },
    {
      "cell_type": "code",
      "source": [
        "sentence.words[4].pluralize()"
      ],
      "metadata": {
        "colab": {
          "base_uri": "https://localhost:8080/",
          "height": 36
        },
        "id": "2nAoebQJWU37",
        "outputId": "695ae89d-d372-4fd7-9310-dabc6b56fa4c"
      },
      "execution_count": 59,
      "outputs": [
        {
          "output_type": "execute_result",
          "data": {
            "text/plain": [
              "'friends'"
            ],
            "application/vnd.google.colaboratory.intrinsic+json": {
              "type": "string"
            }
          },
          "metadata": {},
          "execution_count": 59
        }
      ]
    },
    {
      "cell_type": "code",
      "source": [
        "w = Word('went')\n",
        "w1 = Word('go')\n",
        "w2 = Word('going')"
      ],
      "metadata": {
        "id": "nzdnG14UWpDj"
      },
      "execution_count": 60,
      "outputs": []
    },
    {
      "cell_type": "code",
      "source": [
        "w.lemmatize('v') # V is verb"
      ],
      "metadata": {
        "colab": {
          "base_uri": "https://localhost:8080/",
          "height": 36
        },
        "id": "Wqs0oc-BWpFL",
        "outputId": "dc2ba48c-f13f-4f0c-cff8-15d6d6812f2d"
      },
      "execution_count": 61,
      "outputs": [
        {
          "output_type": "execute_result",
          "data": {
            "text/plain": [
              "'go'"
            ],
            "application/vnd.google.colaboratory.intrinsic+json": {
              "type": "string"
            }
          },
          "metadata": {},
          "execution_count": 61
        }
      ]
    },
    {
      "cell_type": "code",
      "source": [
        "w1.lemmatize('v')"
      ],
      "metadata": {
        "colab": {
          "base_uri": "https://localhost:8080/",
          "height": 36
        },
        "id": "IK8Npup8WpIh",
        "outputId": "46a8340a-ad9f-4d76-dad7-0b67ecbe2811"
      },
      "execution_count": 62,
      "outputs": [
        {
          "output_type": "execute_result",
          "data": {
            "text/plain": [
              "'go'"
            ],
            "application/vnd.google.colaboratory.intrinsic+json": {
              "type": "string"
            }
          },
          "metadata": {},
          "execution_count": 62
        }
      ]
    },
    {
      "cell_type": "code",
      "source": [
        "w2.lemmatize('v')"
      ],
      "metadata": {
        "colab": {
          "base_uri": "https://localhost:8080/",
          "height": 36
        },
        "id": "Kdthudi2WpNN",
        "outputId": "beefa355-bef6-43bb-9f4c-70773b4fc2bf"
      },
      "execution_count": 63,
      "outputs": [
        {
          "output_type": "execute_result",
          "data": {
            "text/plain": [
              "'go'"
            ],
            "application/vnd.google.colaboratory.intrinsic+json": {
              "type": "string"
            }
          },
          "metadata": {},
          "execution_count": 63
        }
      ]
    },
    {
      "cell_type": "code",
      "source": [
        "paragraph"
      ],
      "metadata": {
        "colab": {
          "base_uri": "https://localhost:8080/"
        },
        "id": "4N2mhndAWpQD",
        "outputId": "95af38bc-bef6-4347-a950-59f822598edc"
      },
      "execution_count": 64,
      "outputs": [
        {
          "output_type": "execute_result",
          "data": {
            "text/plain": [
              "TextBlob(\"The SCES, which had 28 members, including 10 non-official members, was also chaired by Mr. Sen. The panel was mandated to review the framework for economic indicators pertaining to the industrial sector, the services sector and the labour force statistics. This meant that their purview was limited to datasets like the Periodic Labour Force Survey, the Annual Survey of Industries, the Index of Industrial Production and the Economic Census.\")"
            ]
          },
          "metadata": {},
          "execution_count": 64
        }
      ]
    },
    {
      "cell_type": "code",
      "source": [
        "# Gives what parts of speech\n",
        "paragraph.tags"
      ],
      "metadata": {
        "colab": {
          "base_uri": "https://localhost:8080/"
        },
        "id": "p0ut1pUzXTnj",
        "outputId": "475dc8a0-22fc-4d18-8964-d04f7c48e516"
      },
      "execution_count": 65,
      "outputs": [
        {
          "output_type": "execute_result",
          "data": {
            "text/plain": [
              "[('The', 'DT'),\n",
              " ('SCES', 'NNP'),\n",
              " ('which', 'WDT'),\n",
              " ('had', 'VBD'),\n",
              " ('28', 'CD'),\n",
              " ('members', 'NNS'),\n",
              " ('including', 'VBG'),\n",
              " ('10', 'CD'),\n",
              " ('non-official', 'JJ'),\n",
              " ('members', 'NNS'),\n",
              " ('was', 'VBD'),\n",
              " ('also', 'RB'),\n",
              " ('chaired', 'VBN'),\n",
              " ('by', 'IN'),\n",
              " ('Mr.', 'NNP'),\n",
              " ('Sen', 'NNP'),\n",
              " ('The', 'DT'),\n",
              " ('panel', 'NN'),\n",
              " ('was', 'VBD'),\n",
              " ('mandated', 'VBN'),\n",
              " ('to', 'TO'),\n",
              " ('review', 'VB'),\n",
              " ('the', 'DT'),\n",
              " ('framework', 'NN'),\n",
              " ('for', 'IN'),\n",
              " ('economic', 'JJ'),\n",
              " ('indicators', 'NNS'),\n",
              " ('pertaining', 'VBG'),\n",
              " ('to', 'TO'),\n",
              " ('the', 'DT'),\n",
              " ('industrial', 'JJ'),\n",
              " ('sector', 'NN'),\n",
              " ('the', 'DT'),\n",
              " ('services', 'NNS'),\n",
              " ('sector', 'NN'),\n",
              " ('and', 'CC'),\n",
              " ('the', 'DT'),\n",
              " ('labour', 'JJ'),\n",
              " ('force', 'NN'),\n",
              " ('statistics', 'NNS'),\n",
              " ('This', 'DT'),\n",
              " ('meant', 'NN'),\n",
              " ('that', 'IN'),\n",
              " ('their', 'PRP$'),\n",
              " ('purview', 'NN'),\n",
              " ('was', 'VBD'),\n",
              " ('limited', 'VBN'),\n",
              " ('to', 'TO'),\n",
              " ('datasets', 'NNS'),\n",
              " ('like', 'IN'),\n",
              " ('the', 'DT'),\n",
              " ('Periodic', 'NNP'),\n",
              " ('Labour', 'NNP'),\n",
              " ('Force', 'NNP'),\n",
              " ('Survey', 'NNP'),\n",
              " ('the', 'DT'),\n",
              " ('Annual', 'NNP'),\n",
              " ('Survey', 'NNP'),\n",
              " ('of', 'IN'),\n",
              " ('Industries', 'NNPS'),\n",
              " ('the', 'DT'),\n",
              " ('Index', 'NNP'),\n",
              " ('of', 'IN'),\n",
              " ('Industrial', 'NNP'),\n",
              " ('Production', 'NNP'),\n",
              " ('and', 'CC'),\n",
              " ('the', 'DT'),\n",
              " ('Economic', 'NNP'),\n",
              " ('Census', 'NNP')]"
            ]
          },
          "metadata": {},
          "execution_count": 65
        }
      ]
    },
    {
      "cell_type": "code",
      "source": [
        "for word, pos in paragraph.tags:\n",
        "  print(word + \"==>\" +pos)"
      ],
      "metadata": {
        "colab": {
          "base_uri": "https://localhost:8080/"
        },
        "id": "5jFaigTbXTo7",
        "outputId": "e4b7d541-06b1-4e57-b589-b0c1e599061f"
      },
      "execution_count": 66,
      "outputs": [
        {
          "output_type": "stream",
          "name": "stdout",
          "text": [
            "The==>DT\n",
            "SCES==>NNP\n",
            "which==>WDT\n",
            "had==>VBD\n",
            "28==>CD\n",
            "members==>NNS\n",
            "including==>VBG\n",
            "10==>CD\n",
            "non-official==>JJ\n",
            "members==>NNS\n",
            "was==>VBD\n",
            "also==>RB\n",
            "chaired==>VBN\n",
            "by==>IN\n",
            "Mr.==>NNP\n",
            "Sen==>NNP\n",
            "The==>DT\n",
            "panel==>NN\n",
            "was==>VBD\n",
            "mandated==>VBN\n",
            "to==>TO\n",
            "review==>VB\n",
            "the==>DT\n",
            "framework==>NN\n",
            "for==>IN\n",
            "economic==>JJ\n",
            "indicators==>NNS\n",
            "pertaining==>VBG\n",
            "to==>TO\n",
            "the==>DT\n",
            "industrial==>JJ\n",
            "sector==>NN\n",
            "the==>DT\n",
            "services==>NNS\n",
            "sector==>NN\n",
            "and==>CC\n",
            "the==>DT\n",
            "labour==>JJ\n",
            "force==>NN\n",
            "statistics==>NNS\n",
            "This==>DT\n",
            "meant==>NN\n",
            "that==>IN\n",
            "their==>PRP$\n",
            "purview==>NN\n",
            "was==>VBD\n",
            "limited==>VBN\n",
            "to==>TO\n",
            "datasets==>NNS\n",
            "like==>IN\n",
            "the==>DT\n",
            "Periodic==>NNP\n",
            "Labour==>NNP\n",
            "Force==>NNP\n",
            "Survey==>NNP\n",
            "the==>DT\n",
            "Annual==>NNP\n",
            "Survey==>NNP\n",
            "of==>IN\n",
            "Industries==>NNPS\n",
            "the==>DT\n",
            "Index==>NNP\n",
            "of==>IN\n",
            "Industrial==>NNP\n",
            "Production==>NNP\n",
            "and==>CC\n",
            "the==>DT\n",
            "Economic==>NNP\n",
            "Census==>NNP\n"
          ]
        }
      ]
    },
    {
      "cell_type": "code",
      "source": [
        "my_sentence = TextBlob(\"I havv goood knowldge about python\")"
      ],
      "metadata": {
        "id": "iUQTHMgcXTsO"
      },
      "execution_count": 69,
      "outputs": []
    },
    {
      "cell_type": "code",
      "source": [
        "my_sentence"
      ],
      "metadata": {
        "colab": {
          "base_uri": "https://localhost:8080/"
        },
        "id": "Oh7os5Y7XTtp",
        "outputId": "93872c17-53f6-476e-c235-2001ee523673"
      },
      "execution_count": 70,
      "outputs": [
        {
          "output_type": "execute_result",
          "data": {
            "text/plain": [
              "TextBlob(\"I havv goood knowldge about python\")"
            ]
          },
          "metadata": {},
          "execution_count": 70
        }
      ]
    },
    {
      "cell_type": "code",
      "source": [
        "# Correct spellings\n",
        "print(my_sentence.correct())"
      ],
      "metadata": {
        "colab": {
          "base_uri": "https://localhost:8080/"
        },
        "id": "o2G_QSg5XTw_",
        "outputId": "ca5f1dc2-e639-4c88-c745-788f35358105"
      },
      "execution_count": 72,
      "outputs": [
        {
          "output_type": "stream",
          "name": "stdout",
          "text": [
            "I have good knowledge about patron\n"
          ]
        }
      ]
    },
    {
      "cell_type": "markdown",
      "source": [
        "# Translation"
      ],
      "metadata": {
        "id": "AiGo2soWYZSY"
      }
    },
    {
      "cell_type": "code",
      "source": [
        "japanes_blob = TextBlob('財務省は2024年度予算の概算要求で設ける特別枠の対象に、賃上げなど人への投資の対策を含める。脱炭素などと合わせ、岸田文雄政権が打ち出す「新しい資本主義」に重点配分する。物価高対策や少子化対策は金額を示さない「事項要求」を認め、年末までに必要額を検討する。特別枠は政府の重要課題と位置づける政策に予算を重点配分する仕組みだ。各省庁が翌年度の予算要求を財務省に出す際のルールである概算要求基準に盛り')"
      ],
      "metadata": {
        "id": "sx2zgr68XTyi"
      },
      "execution_count": 77,
      "outputs": []
    },
    {
      "cell_type": "code",
      "source": [
        "japanes_blob"
      ],
      "metadata": {
        "colab": {
          "base_uri": "https://localhost:8080/"
        },
        "id": "4Y-e2Bj7XT12",
        "outputId": "861fef44-7dbc-4bec-ed9c-abf8b3d617e5"
      },
      "execution_count": 78,
      "outputs": [
        {
          "output_type": "execute_result",
          "data": {
            "text/plain": [
              "TextBlob(\"財務省は2024年度予算の概算要求で設ける特別枠の対象に、賃上げなど人への投資の対策を含める。脱炭素などと合わせ、岸田文雄政権が打ち出す「新しい資本主義」に重点配分する。物価高対策や少子化対策は金額を示さない「事項要求」を認め、年末までに必要額を検討する。特別枠は政府の重要課題と位置づける政策に予算を重点配分する仕組みだ。各省庁が翌年度の予算要求を財務省に出す際のルールである概算要求基準に盛り\")"
            ]
          },
          "metadata": {},
          "execution_count": 78
        }
      ]
    },
    {
      "cell_type": "code",
      "source": [
        "japanes_blob.translate(from_lang='ja-JP', to='hi')"
      ],
      "metadata": {
        "colab": {
          "base_uri": "https://localhost:8080/"
        },
        "id": "ZTP6mPknXT3d",
        "outputId": "f14513d6-f42d-42ec-e6fd-bee21825f808"
      },
      "execution_count": 79,
      "outputs": [
        {
          "output_type": "execute_result",
          "data": {
            "text/plain": [
              "TextBlob(\"वित्त मंत्रालय में लोगों में निवेश करने के उपाय शामिल हैं, जैसे कि मजदूरी बढ़ाना, वित्त वर्ष 2014 में बजट के लिए बजट अनुरोध में निर्धारित विशेष फ्रेम के लिए। कार कैलोरल के साथ संयोजन में, फुमियो किशिदा प्रशासन द्वारा शुरू किए गए \"न्यू कैपिटलिज्म\" पर ध्यान केंद्रित करें। मूल्य उपाय और घटते जन्म के उपायों को \"अनुरोधों\" के लिए मान्यता प्राप्त है जो राशि का संकेत नहीं देते हैं, और वर्ष के अंत तक आवश्यक राशि की जांच करते हैं। विशेष फ्रेम एक ऐसा तंत्र है जो बजट पर ध्यान केंद्रित करता है जो उन नीतियों पर केंद्रित है जो सरकारी महत्वपूर्ण मुद्दों के रूप में तैनात हैं। वित्त मंत्रालय को निम्न वित्तीय वर्ष के लिए बजट अनुरोध करने के लिए प्रत्येक मंत्रालय और एजेंसी के लिए लगभग अनुमानित अनुरोध मानदंड।\")"
            ]
          },
          "metadata": {},
          "execution_count": 79
        }
      ]
    },
    {
      "cell_type": "code",
      "source": [
        "my_sen = TextBlob(\"On June 15, the Delhi police had filed a 1,000-page charge sheet against Mr. Singh and Mr. Tomar, which includes the testimonies of witnesses, victims and other concerned persons. Mr. Singh had been summoned before the court after hearing the submissions and considering the police report along with its annexed documents, including the statements of the victims, the court took cognisance of the offences committed under Sections 354 (outraging modesty), 354A (sexually coloured remarks) and 354D (stalking), 506 (para 1) (criminal intimidation) and 109 (abetment to offense) of the Indian Penal Code.\")"
      ],
      "metadata": {
        "id": "Onr_oSIyXT6s"
      },
      "execution_count": 80,
      "outputs": []
    },
    {
      "cell_type": "code",
      "source": [
        "my_sen.translate(from_lang='en', to='hi')"
      ],
      "metadata": {
        "colab": {
          "base_uri": "https://localhost:8080/"
        },
        "id": "-uUYGxMwXT78",
        "outputId": "a891b2a0-d10f-4bc2-fa5b-8d97c23bc78b"
      },
      "execution_count": 81,
      "outputs": [
        {
          "output_type": "execute_result",
          "data": {
            "text/plain": [
              "TextBlob(\"6月15日、デリー警察は、証人、犠牲者、その他の関係者の証言を含むシン氏とトマール氏に対して1,000ページの請求シートを提出しました。シン氏は、提出を聞いた後、裁判所に召喚され、被害者の声明を含む併合された文書とともに警察の報告書を検討した後、裁判所はセクション354（激怒する謙虚さ）、354a（性的にインド刑法の色付きの発言）および354d（ストーキング）、506（刑事脅迫）および109（犯罪への侵害）。\")"
            ]
          },
          "metadata": {},
          "execution_count": 81
        }
      ]
    },
    {
      "cell_type": "markdown",
      "source": [
        "# Term Frequency-Inverse Document Frequency (TF-IDF)\n",
        "\n",
        "\n",
        "Term Frequency-Inverse Document Frequency (TF-IDF) is a numerical statistic used in natural language processing and information retrieval to evaluate the importance of a term within a document or a collection of documents.\n",
        "\n",
        "TF-IDF combines two factors: term frequency (TF) and inverse document frequency (IDF). Term frequency measures the frequency of a term within a document, while inverse document frequency measures how rare or common a term is across all documents in a collection.\n",
        "\n",
        "The TF-IDF value for a term in a document increases proportionally to the number of times it appears in the document (term frequency) but is offset by the rarity of the term in the entire collection of documents (inverse document frequency). This helps to identify important terms that are frequent within a document but relatively rare across other documents.\n",
        "\n",
        "The TF-IDF calculation is performed by multiplying the term frequency (TF) by the inverse document frequency (IDF). The resulting value represents the relevance or significance of a term in a specific document.\n",
        "\n",
        "TF-IDF is commonly used for tasks such as information retrieval, text mining, and document classification. It allows for the extraction of important keywords and the ranking of documents based on their relevance to a given query or topic.\n"
      ],
      "metadata": {
        "id": "EwE-YRR8cACd"
      }
    },
    {
      "cell_type": "code",
      "source": [
        "import nltk"
      ],
      "metadata": {
        "id": "uwmoqu87XT_q"
      },
      "execution_count": 83,
      "outputs": []
    },
    {
      "cell_type": "code",
      "source": [
        "paragraph = \"Term Frequency-Inverse Document Frequency (TF-IDF) is a numerical statistic used in natural language processing and information retrieval to evaluate the importance of a term within a document or a collection of documents.TF-IDF combines two factors: term frequency (TF) and inverse document frequency (IDF). Term frequency measures the frequency of a term within a document, while inverse document frequency measures how rare or common a term is across all documents in a collection.The TF-IDF value for a term in a document increases proportionally to the number of times it appears in the document (term frequency) but is offset by the rarity of the term in the entire collection of documents (inverse document frequency). This helps to identify important terms that are frequent within a document but relatively rare across other documents.The TF-IDF calculation is performed by multiplying the term frequency (TF) by the inverse document frequency (IDF). The resulting value represents the relevance or significance of a term in a specific document.TF-IDF is commonly used for tasks such as information retrieval, text mining, and document classification. It allows for the extraction of important keywords and the ranking of documents based on their relevance to a given query or topic.\""
      ],
      "metadata": {
        "id": "MI3_n7LAb-48"
      },
      "execution_count": 84,
      "outputs": []
    },
    {
      "cell_type": "code",
      "source": [
        "paragraph"
      ],
      "metadata": {
        "colab": {
          "base_uri": "https://localhost:8080/",
          "height": 123
        },
        "id": "LuAymSexb-62",
        "outputId": "03ec9601-e55f-417e-8f6b-2bef1814deb9"
      },
      "execution_count": 85,
      "outputs": [
        {
          "output_type": "execute_result",
          "data": {
            "text/plain": [
              "'Term Frequency-Inverse Document Frequency (TF-IDF) is a numerical statistic used in natural language processing and information retrieval to evaluate the importance of a term within a document or a collection of documents.TF-IDF combines two factors: term frequency (TF) and inverse document frequency (IDF). Term frequency measures the frequency of a term within a document, while inverse document frequency measures how rare or common a term is across all documents in a collection.The TF-IDF value for a term in a document increases proportionally to the number of times it appears in the document (term frequency) but is offset by the rarity of the term in the entire collection of documents (inverse document frequency). This helps to identify important terms that are frequent within a document but relatively rare across other documents.The TF-IDF calculation is performed by multiplying the term frequency (TF) by the inverse document frequency (IDF). The resulting value represents the relevance or significance of a term in a specific document.TF-IDF is commonly used for tasks such as information retrieval, text mining, and document classification. It allows for the extraction of important keywords and the ranking of documents based on their relevance to a given query or topic.'"
            ],
            "application/vnd.google.colaboratory.intrinsic+json": {
              "type": "string"
            }
          },
          "metadata": {},
          "execution_count": 85
        }
      ]
    },
    {
      "cell_type": "code",
      "source": [
        "import nltk\n",
        "nltk.download('stopwords')\n",
        "\n",
        "# Pre-Processing/Clean the text\n",
        "import re\n",
        "from nltk.corpus import stopwords\n",
        "from nltk.stem import WordNetLemmatizer\n",
        "\n",
        "lemme = WordNetLemmatizer()\n",
        "\n",
        "sentence = nltk.sent_tokenize(paragraph)\n",
        "\n",
        "corpus = []\n",
        "\n",
        "for i in range(len(sentence)):\n",
        "    review = re.sub('[^a-zA-Z]', ' ', sentence[i])\n",
        "    review = review.lower()\n",
        "    review = review.split()\n",
        "    review = [lemme.lemmatize(word) for word in review if word not in set(stopwords.words('english'))]\n",
        "    review = ' '.join(review)\n",
        "    corpus.append(review)\n"
      ],
      "metadata": {
        "colab": {
          "base_uri": "https://localhost:8080/"
        },
        "id": "MpXSvRW6b-9N",
        "outputId": "cea83d56-939b-4563-87f8-09944e38de77"
      },
      "execution_count": 90,
      "outputs": [
        {
          "output_type": "stream",
          "name": "stderr",
          "text": [
            "[nltk_data] Downloading package stopwords to /root/nltk_data...\n",
            "[nltk_data]   Package stopwords is already up-to-date!\n"
          ]
        }
      ]
    },
    {
      "cell_type": "code",
      "source": [
        "corpus"
      ],
      "metadata": {
        "colab": {
          "base_uri": "https://localhost:8080/"
        },
        "id": "Ldmsncknb--r",
        "outputId": "319c2652-d553-4ba4-aac4-77047dbd3723"
      },
      "execution_count": 91,
      "outputs": [
        {
          "output_type": "execute_result",
          "data": {
            "text/plain": [
              "['term frequency inverse document frequency tf idf numerical statistic used natural language processing information retrieval evaluate importance term within document collection document tf idf combine two factor term frequency tf inverse document frequency idf',\n",
              " 'term frequency measure frequency term within document inverse document frequency measure rare common term across document collection tf idf value term document increase proportionally number time appears document term frequency offset rarity term entire collection document inverse document frequency',\n",
              " 'help identify important term frequent within document relatively rare across document tf idf calculation performed multiplying term frequency tf inverse document frequency idf',\n",
              " 'resulting value represents relevance significance term specific document tf idf commonly used task information retrieval text mining document classification',\n",
              " 'allows extraction important keywords ranking document based relevance given query topic']"
            ]
          },
          "metadata": {},
          "execution_count": 91
        }
      ]
    },
    {
      "cell_type": "markdown",
      "source": [
        "# Apply TF-IDF Model"
      ],
      "metadata": {
        "id": "hX9a5ap9h7fE"
      }
    },
    {
      "cell_type": "code",
      "source": [
        "from sklearn.feature_extraction.text import TfidfVectorizer\n",
        "tfidf_vector = TfidfVectorizer()\n",
        "x = tfidf_vector.fit_transform(corpus).toarray()"
      ],
      "metadata": {
        "id": "4XJhPGg3b_CC"
      },
      "execution_count": 92,
      "outputs": []
    },
    {
      "cell_type": "code",
      "source": [
        "x"
      ],
      "metadata": {
        "colab": {
          "base_uri": "https://localhost:8080/"
        },
        "id": "uxRroC-Ub_Dd",
        "outputId": "73fa6407-9c96-4d8a-90b9-baa1647a3fe2"
      },
      "execution_count": 93,
      "outputs": [
        {
          "output_type": "execute_result",
          "data": {
            "text/plain": [
              "array([[0.        , 0.        , 0.        , 0.        , 0.        ,\n",
              "        0.        , 0.13790808, 0.17093351, 0.        , 0.        ,\n",
              "        0.32580293, 0.        , 0.17093351, 0.        , 0.17093351,\n",
              "        0.45790466, 0.        , 0.        , 0.        , 0.        ,\n",
              "        0.28890287, 0.17093351, 0.        , 0.        , 0.13790808,\n",
              "        0.22895233, 0.        , 0.17093351, 0.        , 0.        ,\n",
              "        0.        , 0.17093351, 0.        , 0.17093351, 0.        ,\n",
              "        0.        , 0.17093351, 0.        , 0.        , 0.        ,\n",
              "        0.        , 0.        , 0.        , 0.        , 0.        ,\n",
              "        0.        , 0.13790808, 0.        , 0.        , 0.17093351,\n",
              "        0.        , 0.28890287, 0.        , 0.28890287, 0.        ,\n",
              "        0.        , 0.17093351, 0.13790808, 0.        , 0.11447616],\n",
              "       [0.10958915, 0.        , 0.13583292, 0.        , 0.        ,\n",
              "        0.        , 0.21917829, 0.        , 0.13583292, 0.        ,\n",
              "        0.45307581, 0.13583292, 0.        , 0.        , 0.        ,\n",
              "        0.45484445, 0.        , 0.        , 0.        , 0.        ,\n",
              "        0.0765259 , 0.        , 0.        , 0.13583292, 0.        ,\n",
              "        0.18193778, 0.        , 0.        , 0.27166584, 0.        ,\n",
              "        0.        , 0.        , 0.13583292, 0.        , 0.13583292,\n",
              "        0.        , 0.        , 0.13583292, 0.        , 0.        ,\n",
              "        0.10958915, 0.13583292, 0.        , 0.        , 0.        ,\n",
              "        0.        , 0.        , 0.        , 0.        , 0.        ,\n",
              "        0.        , 0.45915539, 0.        , 0.0765259 , 0.13583292,\n",
              "        0.        , 0.        , 0.        , 0.10958915, 0.09096889],\n",
              "       [0.19288183, 0.        , 0.        , 0.        , 0.23907205,\n",
              "        0.        , 0.        , 0.        , 0.        , 0.        ,\n",
              "        0.34175734, 0.        , 0.        , 0.        , 0.        ,\n",
              "        0.32021868, 0.23907205, 0.        , 0.23907205, 0.23907205,\n",
              "        0.26937805, 0.        , 0.19288183, 0.        , 0.        ,\n",
              "        0.16010934, 0.        , 0.        , 0.        , 0.        ,\n",
              "        0.23907205, 0.        , 0.        , 0.        , 0.        ,\n",
              "        0.23907205, 0.        , 0.        , 0.        , 0.        ,\n",
              "        0.19288183, 0.        , 0.23907205, 0.        , 0.        ,\n",
              "        0.        , 0.        , 0.        , 0.        , 0.        ,\n",
              "        0.        , 0.26937805, 0.        , 0.26937805, 0.        ,\n",
              "        0.        , 0.        , 0.        , 0.        , 0.16010934],\n",
              "       [0.        , 0.        , 0.        , 0.        , 0.        ,\n",
              "        0.26617019, 0.        , 0.        , 0.        , 0.26617019,\n",
              "        0.25366304, 0.        , 0.        , 0.        , 0.        ,\n",
              "        0.        , 0.        , 0.        , 0.        , 0.        ,\n",
              "        0.14995564, 0.        , 0.        , 0.        , 0.21474443,\n",
              "        0.        , 0.        , 0.        , 0.        , 0.26617019,\n",
              "        0.        , 0.        , 0.        , 0.        , 0.        ,\n",
              "        0.        , 0.        , 0.        , 0.        , 0.        ,\n",
              "        0.        , 0.        , 0.        , 0.21474443, 0.26617019,\n",
              "        0.26617019, 0.21474443, 0.26617019, 0.26617019, 0.        ,\n",
              "        0.26617019, 0.14995564, 0.26617019, 0.14995564, 0.        ,\n",
              "        0.        , 0.        , 0.21474443, 0.21474443, 0.        ],\n",
              "       [0.        , 0.32395065, 0.        , 0.32395065, 0.        ,\n",
              "        0.        , 0.        , 0.        , 0.        , 0.        ,\n",
              "        0.15436422, 0.        , 0.        , 0.32395065, 0.        ,\n",
              "        0.        , 0.        , 0.32395065, 0.        , 0.        ,\n",
              "        0.        , 0.        , 0.26136134, 0.        , 0.        ,\n",
              "        0.        , 0.32395065, 0.        , 0.        , 0.        ,\n",
              "        0.        , 0.        , 0.        , 0.        , 0.        ,\n",
              "        0.        , 0.        , 0.        , 0.32395065, 0.32395065,\n",
              "        0.        , 0.        , 0.        , 0.26136134, 0.        ,\n",
              "        0.        , 0.        , 0.        , 0.        , 0.        ,\n",
              "        0.        , 0.        , 0.        , 0.        , 0.        ,\n",
              "        0.32395065, 0.        , 0.        , 0.        , 0.        ]])"
            ]
          },
          "metadata": {},
          "execution_count": 93
        }
      ]
    },
    {
      "cell_type": "code",
      "source": [
        "import pandas as pd\n",
        "df = pd.DataFrame(x)"
      ],
      "metadata": {
        "id": "Vat7d6meb_G0"
      },
      "execution_count": 94,
      "outputs": []
    },
    {
      "cell_type": "code",
      "source": [
        "df"
      ],
      "metadata": {
        "colab": {
          "base_uri": "https://localhost:8080/",
          "height": 279
        },
        "id": "y5m2QFBlb_IT",
        "outputId": "6ad0d440-5cb6-4fd6-c995-233ebd3afee8"
      },
      "execution_count": 95,
      "outputs": [
        {
          "output_type": "execute_result",
          "data": {
            "text/plain": [
              "         0         1         2         3         4        5         6   \\\n",
              "0  0.000000  0.000000  0.000000  0.000000  0.000000  0.00000  0.137908   \n",
              "1  0.109589  0.000000  0.135833  0.000000  0.000000  0.00000  0.219178   \n",
              "2  0.192882  0.000000  0.000000  0.000000  0.239072  0.00000  0.000000   \n",
              "3  0.000000  0.000000  0.000000  0.000000  0.000000  0.26617  0.000000   \n",
              "4  0.000000  0.323951  0.000000  0.323951  0.000000  0.00000  0.000000   \n",
              "\n",
              "         7         8        9   ...       50        51       52        53  \\\n",
              "0  0.170934  0.000000  0.00000  ...  0.00000  0.288903  0.00000  0.288903   \n",
              "1  0.000000  0.135833  0.00000  ...  0.00000  0.459155  0.00000  0.076526   \n",
              "2  0.000000  0.000000  0.00000  ...  0.00000  0.269378  0.00000  0.269378   \n",
              "3  0.000000  0.000000  0.26617  ...  0.26617  0.149956  0.26617  0.149956   \n",
              "4  0.000000  0.000000  0.00000  ...  0.00000  0.000000  0.00000  0.000000   \n",
              "\n",
              "         54        55        56        57        58        59  \n",
              "0  0.000000  0.000000  0.170934  0.137908  0.000000  0.114476  \n",
              "1  0.135833  0.000000  0.000000  0.000000  0.109589  0.090969  \n",
              "2  0.000000  0.000000  0.000000  0.000000  0.000000  0.160109  \n",
              "3  0.000000  0.000000  0.000000  0.214744  0.214744  0.000000  \n",
              "4  0.000000  0.323951  0.000000  0.000000  0.000000  0.000000  \n",
              "\n",
              "[5 rows x 60 columns]"
            ],
            "text/html": [
              "\n",
              "\n",
              "  <div id=\"df-b9f402f7-967f-4730-9797-a0fe8afd20a4\">\n",
              "    <div class=\"colab-df-container\">\n",
              "      <div>\n",
              "<style scoped>\n",
              "    .dataframe tbody tr th:only-of-type {\n",
              "        vertical-align: middle;\n",
              "    }\n",
              "\n",
              "    .dataframe tbody tr th {\n",
              "        vertical-align: top;\n",
              "    }\n",
              "\n",
              "    .dataframe thead th {\n",
              "        text-align: right;\n",
              "    }\n",
              "</style>\n",
              "<table border=\"1\" class=\"dataframe\">\n",
              "  <thead>\n",
              "    <tr style=\"text-align: right;\">\n",
              "      <th></th>\n",
              "      <th>0</th>\n",
              "      <th>1</th>\n",
              "      <th>2</th>\n",
              "      <th>3</th>\n",
              "      <th>4</th>\n",
              "      <th>5</th>\n",
              "      <th>6</th>\n",
              "      <th>7</th>\n",
              "      <th>8</th>\n",
              "      <th>9</th>\n",
              "      <th>...</th>\n",
              "      <th>50</th>\n",
              "      <th>51</th>\n",
              "      <th>52</th>\n",
              "      <th>53</th>\n",
              "      <th>54</th>\n",
              "      <th>55</th>\n",
              "      <th>56</th>\n",
              "      <th>57</th>\n",
              "      <th>58</th>\n",
              "      <th>59</th>\n",
              "    </tr>\n",
              "  </thead>\n",
              "  <tbody>\n",
              "    <tr>\n",
              "      <th>0</th>\n",
              "      <td>0.000000</td>\n",
              "      <td>0.000000</td>\n",
              "      <td>0.000000</td>\n",
              "      <td>0.000000</td>\n",
              "      <td>0.000000</td>\n",
              "      <td>0.00000</td>\n",
              "      <td>0.137908</td>\n",
              "      <td>0.170934</td>\n",
              "      <td>0.000000</td>\n",
              "      <td>0.00000</td>\n",
              "      <td>...</td>\n",
              "      <td>0.00000</td>\n",
              "      <td>0.288903</td>\n",
              "      <td>0.00000</td>\n",
              "      <td>0.288903</td>\n",
              "      <td>0.000000</td>\n",
              "      <td>0.000000</td>\n",
              "      <td>0.170934</td>\n",
              "      <td>0.137908</td>\n",
              "      <td>0.000000</td>\n",
              "      <td>0.114476</td>\n",
              "    </tr>\n",
              "    <tr>\n",
              "      <th>1</th>\n",
              "      <td>0.109589</td>\n",
              "      <td>0.000000</td>\n",
              "      <td>0.135833</td>\n",
              "      <td>0.000000</td>\n",
              "      <td>0.000000</td>\n",
              "      <td>0.00000</td>\n",
              "      <td>0.219178</td>\n",
              "      <td>0.000000</td>\n",
              "      <td>0.135833</td>\n",
              "      <td>0.00000</td>\n",
              "      <td>...</td>\n",
              "      <td>0.00000</td>\n",
              "      <td>0.459155</td>\n",
              "      <td>0.00000</td>\n",
              "      <td>0.076526</td>\n",
              "      <td>0.135833</td>\n",
              "      <td>0.000000</td>\n",
              "      <td>0.000000</td>\n",
              "      <td>0.000000</td>\n",
              "      <td>0.109589</td>\n",
              "      <td>0.090969</td>\n",
              "    </tr>\n",
              "    <tr>\n",
              "      <th>2</th>\n",
              "      <td>0.192882</td>\n",
              "      <td>0.000000</td>\n",
              "      <td>0.000000</td>\n",
              "      <td>0.000000</td>\n",
              "      <td>0.239072</td>\n",
              "      <td>0.00000</td>\n",
              "      <td>0.000000</td>\n",
              "      <td>0.000000</td>\n",
              "      <td>0.000000</td>\n",
              "      <td>0.00000</td>\n",
              "      <td>...</td>\n",
              "      <td>0.00000</td>\n",
              "      <td>0.269378</td>\n",
              "      <td>0.00000</td>\n",
              "      <td>0.269378</td>\n",
              "      <td>0.000000</td>\n",
              "      <td>0.000000</td>\n",
              "      <td>0.000000</td>\n",
              "      <td>0.000000</td>\n",
              "      <td>0.000000</td>\n",
              "      <td>0.160109</td>\n",
              "    </tr>\n",
              "    <tr>\n",
              "      <th>3</th>\n",
              "      <td>0.000000</td>\n",
              "      <td>0.000000</td>\n",
              "      <td>0.000000</td>\n",
              "      <td>0.000000</td>\n",
              "      <td>0.000000</td>\n",
              "      <td>0.26617</td>\n",
              "      <td>0.000000</td>\n",
              "      <td>0.000000</td>\n",
              "      <td>0.000000</td>\n",
              "      <td>0.26617</td>\n",
              "      <td>...</td>\n",
              "      <td>0.26617</td>\n",
              "      <td>0.149956</td>\n",
              "      <td>0.26617</td>\n",
              "      <td>0.149956</td>\n",
              "      <td>0.000000</td>\n",
              "      <td>0.000000</td>\n",
              "      <td>0.000000</td>\n",
              "      <td>0.214744</td>\n",
              "      <td>0.214744</td>\n",
              "      <td>0.000000</td>\n",
              "    </tr>\n",
              "    <tr>\n",
              "      <th>4</th>\n",
              "      <td>0.000000</td>\n",
              "      <td>0.323951</td>\n",
              "      <td>0.000000</td>\n",
              "      <td>0.323951</td>\n",
              "      <td>0.000000</td>\n",
              "      <td>0.00000</td>\n",
              "      <td>0.000000</td>\n",
              "      <td>0.000000</td>\n",
              "      <td>0.000000</td>\n",
              "      <td>0.00000</td>\n",
              "      <td>...</td>\n",
              "      <td>0.00000</td>\n",
              "      <td>0.000000</td>\n",
              "      <td>0.00000</td>\n",
              "      <td>0.000000</td>\n",
              "      <td>0.000000</td>\n",
              "      <td>0.323951</td>\n",
              "      <td>0.000000</td>\n",
              "      <td>0.000000</td>\n",
              "      <td>0.000000</td>\n",
              "      <td>0.000000</td>\n",
              "    </tr>\n",
              "  </tbody>\n",
              "</table>\n",
              "<p>5 rows × 60 columns</p>\n",
              "</div>\n",
              "      <button class=\"colab-df-convert\" onclick=\"convertToInteractive('df-b9f402f7-967f-4730-9797-a0fe8afd20a4')\"\n",
              "              title=\"Convert this dataframe to an interactive table.\"\n",
              "              style=\"display:none;\">\n",
              "\n",
              "  <svg xmlns=\"http://www.w3.org/2000/svg\" height=\"24px\"viewBox=\"0 0 24 24\"\n",
              "       width=\"24px\">\n",
              "    <path d=\"M0 0h24v24H0V0z\" fill=\"none\"/>\n",
              "    <path d=\"M18.56 5.44l.94 2.06.94-2.06 2.06-.94-2.06-.94-.94-2.06-.94 2.06-2.06.94zm-11 1L8.5 8.5l.94-2.06 2.06-.94-2.06-.94L8.5 2.5l-.94 2.06-2.06.94zm10 10l.94 2.06.94-2.06 2.06-.94-2.06-.94-.94-2.06-.94 2.06-2.06.94z\"/><path d=\"M17.41 7.96l-1.37-1.37c-.4-.4-.92-.59-1.43-.59-.52 0-1.04.2-1.43.59L10.3 9.45l-7.72 7.72c-.78.78-.78 2.05 0 2.83L4 21.41c.39.39.9.59 1.41.59.51 0 1.02-.2 1.41-.59l7.78-7.78 2.81-2.81c.8-.78.8-2.07 0-2.86zM5.41 20L4 18.59l7.72-7.72 1.47 1.35L5.41 20z\"/>\n",
              "  </svg>\n",
              "      </button>\n",
              "\n",
              "\n",
              "\n",
              "    <div id=\"df-62f612c4-5341-41b7-916b-cade0648f0d8\">\n",
              "      <button class=\"colab-df-quickchart\" onclick=\"quickchart('df-62f612c4-5341-41b7-916b-cade0648f0d8')\"\n",
              "              title=\"Suggest charts.\"\n",
              "              style=\"display:none;\">\n",
              "\n",
              "<svg xmlns=\"http://www.w3.org/2000/svg\" height=\"24px\"viewBox=\"0 0 24 24\"\n",
              "     width=\"24px\">\n",
              "    <g>\n",
              "        <path d=\"M19 3H5c-1.1 0-2 .9-2 2v14c0 1.1.9 2 2 2h14c1.1 0 2-.9 2-2V5c0-1.1-.9-2-2-2zM9 17H7v-7h2v7zm4 0h-2V7h2v10zm4 0h-2v-4h2v4z\"/>\n",
              "    </g>\n",
              "</svg>\n",
              "      </button>\n",
              "    </div>\n",
              "\n",
              "<style>\n",
              "  .colab-df-quickchart {\n",
              "    background-color: #E8F0FE;\n",
              "    border: none;\n",
              "    border-radius: 50%;\n",
              "    cursor: pointer;\n",
              "    display: none;\n",
              "    fill: #1967D2;\n",
              "    height: 32px;\n",
              "    padding: 0 0 0 0;\n",
              "    width: 32px;\n",
              "  }\n",
              "\n",
              "  .colab-df-quickchart:hover {\n",
              "    background-color: #E2EBFA;\n",
              "    box-shadow: 0px 1px 2px rgba(60, 64, 67, 0.3), 0px 1px 3px 1px rgba(60, 64, 67, 0.15);\n",
              "    fill: #174EA6;\n",
              "  }\n",
              "\n",
              "  [theme=dark] .colab-df-quickchart {\n",
              "    background-color: #3B4455;\n",
              "    fill: #D2E3FC;\n",
              "  }\n",
              "\n",
              "  [theme=dark] .colab-df-quickchart:hover {\n",
              "    background-color: #434B5C;\n",
              "    box-shadow: 0px 1px 3px 1px rgba(0, 0, 0, 0.15);\n",
              "    filter: drop-shadow(0px 1px 2px rgba(0, 0, 0, 0.3));\n",
              "    fill: #FFFFFF;\n",
              "  }\n",
              "</style>\n",
              "\n",
              "    <script>\n",
              "      async function quickchart(key) {\n",
              "        const containerElement = document.querySelector('#' + key);\n",
              "        const charts = await google.colab.kernel.invokeFunction(\n",
              "            'suggestCharts', [key], {});\n",
              "      }\n",
              "    </script>\n",
              "\n",
              "      <script>\n",
              "\n",
              "function displayQuickchartButton(domScope) {\n",
              "  let quickchartButtonEl =\n",
              "    domScope.querySelector('#df-62f612c4-5341-41b7-916b-cade0648f0d8 button.colab-df-quickchart');\n",
              "  quickchartButtonEl.style.display =\n",
              "    google.colab.kernel.accessAllowed ? 'block' : 'none';\n",
              "}\n",
              "\n",
              "        displayQuickchartButton(document);\n",
              "      </script>\n",
              "      <style>\n",
              "    .colab-df-container {\n",
              "      display:flex;\n",
              "      flex-wrap:wrap;\n",
              "      gap: 12px;\n",
              "    }\n",
              "\n",
              "    .colab-df-convert {\n",
              "      background-color: #E8F0FE;\n",
              "      border: none;\n",
              "      border-radius: 50%;\n",
              "      cursor: pointer;\n",
              "      display: none;\n",
              "      fill: #1967D2;\n",
              "      height: 32px;\n",
              "      padding: 0 0 0 0;\n",
              "      width: 32px;\n",
              "    }\n",
              "\n",
              "    .colab-df-convert:hover {\n",
              "      background-color: #E2EBFA;\n",
              "      box-shadow: 0px 1px 2px rgba(60, 64, 67, 0.3), 0px 1px 3px 1px rgba(60, 64, 67, 0.15);\n",
              "      fill: #174EA6;\n",
              "    }\n",
              "\n",
              "    [theme=dark] .colab-df-convert {\n",
              "      background-color: #3B4455;\n",
              "      fill: #D2E3FC;\n",
              "    }\n",
              "\n",
              "    [theme=dark] .colab-df-convert:hover {\n",
              "      background-color: #434B5C;\n",
              "      box-shadow: 0px 1px 3px 1px rgba(0, 0, 0, 0.15);\n",
              "      filter: drop-shadow(0px 1px 2px rgba(0, 0, 0, 0.3));\n",
              "      fill: #FFFFFF;\n",
              "    }\n",
              "  </style>\n",
              "\n",
              "      <script>\n",
              "        const buttonEl =\n",
              "          document.querySelector('#df-b9f402f7-967f-4730-9797-a0fe8afd20a4 button.colab-df-convert');\n",
              "        buttonEl.style.display =\n",
              "          google.colab.kernel.accessAllowed ? 'block' : 'none';\n",
              "\n",
              "        async function convertToInteractive(key) {\n",
              "          const element = document.querySelector('#df-b9f402f7-967f-4730-9797-a0fe8afd20a4');\n",
              "          const dataTable =\n",
              "            await google.colab.kernel.invokeFunction('convertToInteractive',\n",
              "                                                     [key], {});\n",
              "          if (!dataTable) return;\n",
              "\n",
              "          const docLinkHtml = 'Like what you see? Visit the ' +\n",
              "            '<a target=\"_blank\" href=https://colab.research.google.com/notebooks/data_table.ipynb>data table notebook</a>'\n",
              "            + ' to learn more about interactive tables.';\n",
              "          element.innerHTML = '';\n",
              "          dataTable['output_type'] = 'display_data';\n",
              "          await google.colab.output.renderOutput(dataTable, element);\n",
              "          const docLink = document.createElement('div');\n",
              "          docLink.innerHTML = docLinkHtml;\n",
              "          element.appendChild(docLink);\n",
              "        }\n",
              "      </script>\n",
              "    </div>\n",
              "  </div>\n"
            ]
          },
          "metadata": {},
          "execution_count": 95
        },
        {
          "output_type": "stream",
          "name": "stdout",
          "text": [
            "Warning: Total number of columns (60) exceeds max_columns (20) limiting to first (20) columns.\n"
          ]
        }
      ]
    },
    {
      "cell_type": "code",
      "source": [],
      "metadata": {
        "id": "lz8x_Llgb_L7"
      },
      "execution_count": null,
      "outputs": []
    }
  ]
}